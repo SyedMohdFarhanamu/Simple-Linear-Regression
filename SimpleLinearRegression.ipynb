{
 "cells": [
  {
   "cell_type": "markdown",
   "id": "1fe23102",
   "metadata": {},
   "source": [
    "# Simple Linear Regression"
   ]
  },
  {
   "cell_type": "code",
   "execution_count": 1,
   "id": "6530dcf3",
   "metadata": {},
   "outputs": [],
   "source": [
    "import numpy as np\n",
    "import pandas as pd\n",
    "import matplotlib.pyplot as plt\n",
    "%matplotlib inline\n",
    "import seaborn as sns"
   ]
  },
  {
   "cell_type": "code",
   "execution_count": 2,
   "id": "288298e4",
   "metadata": {},
   "outputs": [
    {
     "data": {
      "text/html": [
       "<div>\n",
       "<style scoped>\n",
       "    .dataframe tbody tr th:only-of-type {\n",
       "        vertical-align: middle;\n",
       "    }\n",
       "\n",
       "    .dataframe tbody tr th {\n",
       "        vertical-align: top;\n",
       "    }\n",
       "\n",
       "    .dataframe thead th {\n",
       "        text-align: right;\n",
       "    }\n",
       "</style>\n",
       "<table border=\"1\" class=\"dataframe\">\n",
       "  <thead>\n",
       "    <tr style=\"text-align: right;\">\n",
       "      <th></th>\n",
       "      <th>TV</th>\n",
       "      <th>radio</th>\n",
       "      <th>newspaper</th>\n",
       "      <th>sales</th>\n",
       "    </tr>\n",
       "  </thead>\n",
       "  <tbody>\n",
       "    <tr>\n",
       "      <th>0</th>\n",
       "      <td>230.1</td>\n",
       "      <td>37.8</td>\n",
       "      <td>69.2</td>\n",
       "      <td>22.1</td>\n",
       "    </tr>\n",
       "    <tr>\n",
       "      <th>1</th>\n",
       "      <td>44.5</td>\n",
       "      <td>39.3</td>\n",
       "      <td>45.1</td>\n",
       "      <td>10.4</td>\n",
       "    </tr>\n",
       "    <tr>\n",
       "      <th>2</th>\n",
       "      <td>17.2</td>\n",
       "      <td>45.9</td>\n",
       "      <td>69.3</td>\n",
       "      <td>9.3</td>\n",
       "    </tr>\n",
       "    <tr>\n",
       "      <th>3</th>\n",
       "      <td>151.5</td>\n",
       "      <td>41.3</td>\n",
       "      <td>58.5</td>\n",
       "      <td>18.5</td>\n",
       "    </tr>\n",
       "    <tr>\n",
       "      <th>4</th>\n",
       "      <td>180.8</td>\n",
       "      <td>10.8</td>\n",
       "      <td>58.4</td>\n",
       "      <td>12.9</td>\n",
       "    </tr>\n",
       "  </tbody>\n",
       "</table>\n",
       "</div>"
      ],
      "text/plain": [
       "      TV  radio  newspaper  sales\n",
       "0  230.1   37.8       69.2   22.1\n",
       "1   44.5   39.3       45.1   10.4\n",
       "2   17.2   45.9       69.3    9.3\n",
       "3  151.5   41.3       58.5   18.5\n",
       "4  180.8   10.8       58.4   12.9"
      ]
     },
     "execution_count": 2,
     "metadata": {},
     "output_type": "execute_result"
    }
   ],
   "source": [
    "df = pd.read_csv('Advertising.csv')\n",
    "df.head()"
   ]
  },
  {
   "cell_type": "code",
   "execution_count": 3,
   "id": "55ee7e48",
   "metadata": {},
   "outputs": [
    {
     "data": {
      "text/plain": [
       "(200, 4)"
      ]
     },
     "execution_count": 3,
     "metadata": {},
     "output_type": "execute_result"
    }
   ],
   "source": [
    "df.shape"
   ]
  },
  {
   "cell_type": "code",
   "execution_count": 4,
   "id": "90002a7d",
   "metadata": {},
   "outputs": [
    {
     "data": {
      "text/plain": [
       "Index(['TV', 'radio', 'newspaper', 'sales'], dtype='object')"
      ]
     },
     "execution_count": 4,
     "metadata": {},
     "output_type": "execute_result"
    }
   ],
   "source": [
    "df.columns"
   ]
  },
  {
   "cell_type": "code",
   "execution_count": 5,
   "id": "29cb48f6",
   "metadata": {},
   "outputs": [
    {
     "data": {
      "text/plain": [
       "TV           float64\n",
       "radio        float64\n",
       "newspaper    float64\n",
       "sales        float64\n",
       "dtype: object"
      ]
     },
     "execution_count": 5,
     "metadata": {},
     "output_type": "execute_result"
    }
   ],
   "source": [
    "df.dtypes"
   ]
  },
  {
   "cell_type": "code",
   "execution_count": 6,
   "id": "b05d6736",
   "metadata": {},
   "outputs": [
    {
     "name": "stdout",
     "output_type": "stream",
     "text": [
      "<class 'pandas.core.frame.DataFrame'>\n",
      "RangeIndex: 200 entries, 0 to 199\n",
      "Data columns (total 4 columns):\n",
      " #   Column     Non-Null Count  Dtype  \n",
      "---  ------     --------------  -----  \n",
      " 0   TV         200 non-null    float64\n",
      " 1   radio      200 non-null    float64\n",
      " 2   newspaper  200 non-null    float64\n",
      " 3   sales      200 non-null    float64\n",
      "dtypes: float64(4)\n",
      "memory usage: 6.4 KB\n"
     ]
    }
   ],
   "source": [
    "df.info()"
   ]
  },
  {
   "cell_type": "code",
   "execution_count": 7,
   "id": "5f2f57b0",
   "metadata": {},
   "outputs": [
    {
     "data": {
      "text/plain": [
       "TV           0\n",
       "radio        0\n",
       "newspaper    0\n",
       "sales        0\n",
       "dtype: int64"
      ]
     },
     "execution_count": 7,
     "metadata": {},
     "output_type": "execute_result"
    }
   ],
   "source": [
    "df.isnull().sum()"
   ]
  },
  {
   "cell_type": "code",
   "execution_count": 8,
   "id": "e2a83586",
   "metadata": {},
   "outputs": [
    {
     "data": {
      "text/html": [
       "<div>\n",
       "<style scoped>\n",
       "    .dataframe tbody tr th:only-of-type {\n",
       "        vertical-align: middle;\n",
       "    }\n",
       "\n",
       "    .dataframe tbody tr th {\n",
       "        vertical-align: top;\n",
       "    }\n",
       "\n",
       "    .dataframe thead th {\n",
       "        text-align: right;\n",
       "    }\n",
       "</style>\n",
       "<table border=\"1\" class=\"dataframe\">\n",
       "  <thead>\n",
       "    <tr style=\"text-align: right;\">\n",
       "      <th></th>\n",
       "      <th>TV</th>\n",
       "      <th>radio</th>\n",
       "      <th>newspaper</th>\n",
       "      <th>sales</th>\n",
       "      <th>total_spend</th>\n",
       "    </tr>\n",
       "  </thead>\n",
       "  <tbody>\n",
       "    <tr>\n",
       "      <th>0</th>\n",
       "      <td>230.1</td>\n",
       "      <td>37.8</td>\n",
       "      <td>69.2</td>\n",
       "      <td>22.1</td>\n",
       "      <td>337.1</td>\n",
       "    </tr>\n",
       "    <tr>\n",
       "      <th>1</th>\n",
       "      <td>44.5</td>\n",
       "      <td>39.3</td>\n",
       "      <td>45.1</td>\n",
       "      <td>10.4</td>\n",
       "      <td>128.9</td>\n",
       "    </tr>\n",
       "    <tr>\n",
       "      <th>2</th>\n",
       "      <td>17.2</td>\n",
       "      <td>45.9</td>\n",
       "      <td>69.3</td>\n",
       "      <td>9.3</td>\n",
       "      <td>132.4</td>\n",
       "    </tr>\n",
       "    <tr>\n",
       "      <th>3</th>\n",
       "      <td>151.5</td>\n",
       "      <td>41.3</td>\n",
       "      <td>58.5</td>\n",
       "      <td>18.5</td>\n",
       "      <td>251.3</td>\n",
       "    </tr>\n",
       "    <tr>\n",
       "      <th>4</th>\n",
       "      <td>180.8</td>\n",
       "      <td>10.8</td>\n",
       "      <td>58.4</td>\n",
       "      <td>12.9</td>\n",
       "      <td>250.0</td>\n",
       "    </tr>\n",
       "  </tbody>\n",
       "</table>\n",
       "</div>"
      ],
      "text/plain": [
       "      TV  radio  newspaper  sales  total_spend\n",
       "0  230.1   37.8       69.2   22.1        337.1\n",
       "1   44.5   39.3       45.1   10.4        128.9\n",
       "2   17.2   45.9       69.3    9.3        132.4\n",
       "3  151.5   41.3       58.5   18.5        251.3\n",
       "4  180.8   10.8       58.4   12.9        250.0"
      ]
     },
     "execution_count": 8,
     "metadata": {},
     "output_type": "execute_result"
    }
   ],
   "source": [
    "df['total_spend'] = df['TV'] + df['radio'] + df['newspaper']\n",
    "df.head()"
   ]
  },
  {
   "cell_type": "code",
   "execution_count": 9,
   "id": "d69585fb",
   "metadata": {},
   "outputs": [],
   "source": [
    "df.drop(columns=['TV','radio','newspaper'], inplace=True)"
   ]
  },
  {
   "cell_type": "code",
   "execution_count": 10,
   "id": "7ec62478",
   "metadata": {},
   "outputs": [
    {
     "data": {
      "text/html": [
       "<div>\n",
       "<style scoped>\n",
       "    .dataframe tbody tr th:only-of-type {\n",
       "        vertical-align: middle;\n",
       "    }\n",
       "\n",
       "    .dataframe tbody tr th {\n",
       "        vertical-align: top;\n",
       "    }\n",
       "\n",
       "    .dataframe thead th {\n",
       "        text-align: right;\n",
       "    }\n",
       "</style>\n",
       "<table border=\"1\" class=\"dataframe\">\n",
       "  <thead>\n",
       "    <tr style=\"text-align: right;\">\n",
       "      <th></th>\n",
       "      <th>sales</th>\n",
       "      <th>total_spend</th>\n",
       "    </tr>\n",
       "  </thead>\n",
       "  <tbody>\n",
       "    <tr>\n",
       "      <th>0</th>\n",
       "      <td>22.1</td>\n",
       "      <td>337.1</td>\n",
       "    </tr>\n",
       "    <tr>\n",
       "      <th>1</th>\n",
       "      <td>10.4</td>\n",
       "      <td>128.9</td>\n",
       "    </tr>\n",
       "    <tr>\n",
       "      <th>2</th>\n",
       "      <td>9.3</td>\n",
       "      <td>132.4</td>\n",
       "    </tr>\n",
       "    <tr>\n",
       "      <th>3</th>\n",
       "      <td>18.5</td>\n",
       "      <td>251.3</td>\n",
       "    </tr>\n",
       "    <tr>\n",
       "      <th>4</th>\n",
       "      <td>12.9</td>\n",
       "      <td>250.0</td>\n",
       "    </tr>\n",
       "  </tbody>\n",
       "</table>\n",
       "</div>"
      ],
      "text/plain": [
       "   sales  total_spend\n",
       "0   22.1        337.1\n",
       "1   10.4        128.9\n",
       "2    9.3        132.4\n",
       "3   18.5        251.3\n",
       "4   12.9        250.0"
      ]
     },
     "execution_count": 10,
     "metadata": {},
     "output_type": "execute_result"
    }
   ],
   "source": [
    "df.head()"
   ]
  },
  {
   "cell_type": "code",
   "execution_count": 11,
   "id": "db1da146",
   "metadata": {},
   "outputs": [
    {
     "data": {
      "text/html": [
       "<div>\n",
       "<style scoped>\n",
       "    .dataframe tbody tr th:only-of-type {\n",
       "        vertical-align: middle;\n",
       "    }\n",
       "\n",
       "    .dataframe tbody tr th {\n",
       "        vertical-align: top;\n",
       "    }\n",
       "\n",
       "    .dataframe thead th {\n",
       "        text-align: right;\n",
       "    }\n",
       "</style>\n",
       "<table border=\"1\" class=\"dataframe\">\n",
       "  <thead>\n",
       "    <tr style=\"text-align: right;\">\n",
       "      <th></th>\n",
       "      <th>sales</th>\n",
       "      <th>total_spend</th>\n",
       "    </tr>\n",
       "  </thead>\n",
       "  <tbody>\n",
       "    <tr>\n",
       "      <th>count</th>\n",
       "      <td>200.000000</td>\n",
       "      <td>200.000000</td>\n",
       "    </tr>\n",
       "    <tr>\n",
       "      <th>mean</th>\n",
       "      <td>14.022500</td>\n",
       "      <td>200.860500</td>\n",
       "    </tr>\n",
       "    <tr>\n",
       "      <th>std</th>\n",
       "      <td>5.217457</td>\n",
       "      <td>92.985181</td>\n",
       "    </tr>\n",
       "    <tr>\n",
       "      <th>min</th>\n",
       "      <td>1.600000</td>\n",
       "      <td>11.700000</td>\n",
       "    </tr>\n",
       "    <tr>\n",
       "      <th>25%</th>\n",
       "      <td>10.375000</td>\n",
       "      <td>123.550000</td>\n",
       "    </tr>\n",
       "    <tr>\n",
       "      <th>50%</th>\n",
       "      <td>12.900000</td>\n",
       "      <td>207.350000</td>\n",
       "    </tr>\n",
       "    <tr>\n",
       "      <th>75%</th>\n",
       "      <td>17.400000</td>\n",
       "      <td>281.125000</td>\n",
       "    </tr>\n",
       "    <tr>\n",
       "      <th>max</th>\n",
       "      <td>27.000000</td>\n",
       "      <td>433.600000</td>\n",
       "    </tr>\n",
       "  </tbody>\n",
       "</table>\n",
       "</div>"
      ],
      "text/plain": [
       "            sales  total_spend\n",
       "count  200.000000   200.000000\n",
       "mean    14.022500   200.860500\n",
       "std      5.217457    92.985181\n",
       "min      1.600000    11.700000\n",
       "25%     10.375000   123.550000\n",
       "50%     12.900000   207.350000\n",
       "75%     17.400000   281.125000\n",
       "max     27.000000   433.600000"
      ]
     },
     "execution_count": 11,
     "metadata": {},
     "output_type": "execute_result"
    }
   ],
   "source": [
    "df.describe()"
   ]
  },
  {
   "cell_type": "code",
   "execution_count": 12,
   "id": "e901af37",
   "metadata": {},
   "outputs": [
    {
     "data": {
      "image/png": "[encoded data removed]",
      "text/plain": [
       "<Figure size 360x360 with 6 Axes>"
      ]
     },
     "metadata": {
      "needs_background": "light"
     },
     "output_type": "display_data"
    }
   ],
   "source": [
    "sns.pairplot(df)\n",
    "plt.show()"
   ]
  },
  {
   "cell_type": "code",
   "execution_count": 13,
   "id": "994ec8ec",
   "metadata": {},
   "outputs": [
    {
     "data": {
      "text/html": [
       "<div>\n",
       "<style scoped>\n",
       "    .dataframe tbody tr th:only-of-type {\n",
       "        vertical-align: middle;\n",
       "    }\n",
       "\n",
       "    .dataframe tbody tr th {\n",
       "        vertical-align: top;\n",
       "    }\n",
       "\n",
       "    .dataframe thead th {\n",
       "        text-align: right;\n",
       "    }\n",
       "</style>\n",
       "<table border=\"1\" class=\"dataframe\">\n",
       "  <thead>\n",
       "    <tr style=\"text-align: right;\">\n",
       "      <th></th>\n",
       "      <th>sales</th>\n",
       "      <th>total_spend</th>\n",
       "    </tr>\n",
       "  </thead>\n",
       "  <tbody>\n",
       "    <tr>\n",
       "      <th>sales</th>\n",
       "      <td>1.000000</td>\n",
       "      <td>0.867712</td>\n",
       "    </tr>\n",
       "    <tr>\n",
       "      <th>total_spend</th>\n",
       "      <td>0.867712</td>\n",
       "      <td>1.000000</td>\n",
       "    </tr>\n",
       "  </tbody>\n",
       "</table>\n",
       "</div>"
      ],
      "text/plain": [
       "                sales  total_spend\n",
       "sales        1.000000     0.867712\n",
       "total_spend  0.867712     1.000000"
      ]
     },
     "execution_count": 13,
     "metadata": {},
     "output_type": "execute_result"
    }
   ],
   "source": [
    "df.corr()"
   ]
  },
  {
   "cell_type": "code",
   "execution_count": 62,
   "id": "571e7f34",
   "metadata": {},
   "outputs": [],
   "source": [
    "X = df.drop(columns='sales')\n",
    "Y = df['sales']\n",
    "#X = df.iloc[:,1]\n",
    "#Y = df.iloc[:,0]\n",
    "\n",
    "# X = df.iloc[:,1]\n",
    "# Y = df.iloc[:,-2]"
   ]
  },
  {
   "cell_type": "code",
   "execution_count": 63,
   "id": "172c7076",
   "metadata": {},
   "outputs": [
    {
     "data": {
      "text/plain": [
       "0      22.1\n",
       "1      10.4\n",
       "2       9.3\n",
       "3      18.5\n",
       "4      12.9\n",
       "       ... \n",
       "195     7.6\n",
       "196     9.7\n",
       "197    12.8\n",
       "198    25.5\n",
       "199    13.4\n",
       "Name: sales, Length: 200, dtype: float64"
      ]
     },
     "execution_count": 63,
     "metadata": {},
     "output_type": "execute_result"
    }
   ],
   "source": [
    "Y"
   ]
  },
  {
   "cell_type": "code",
   "execution_count": 16,
   "id": "fea19b31",
   "metadata": {},
   "outputs": [],
   "source": [
    "from sklearn.model_selection import train_test_split\n",
    "X_train, X_test, Y_train, Y_test = train_test_split(X,Y,test_size=0.3,random_state=42)"
   ]
  },
  {
   "cell_type": "code",
   "execution_count": 67,
   "id": "40454d74",
   "metadata": {},
   "outputs": [
    {
     "data": {
      "text/plain": [
       "95     16.9\n",
       "15     22.4\n",
       "30     21.4\n",
       "158     7.3\n",
       "128    24.7\n",
       "115    12.6\n",
       "69     22.3\n",
       "170     8.4\n",
       "174    11.5\n",
       "45     14.9\n",
       "66      9.5\n",
       "182     8.7\n",
       "165    11.9\n",
       "78      5.3\n",
       "186    10.3\n",
       "177    11.7\n",
       "56      5.5\n",
       "152    16.6\n",
       "82     11.3\n",
       "68     18.9\n",
       "124    19.7\n",
       "16     12.5\n",
       "148    10.9\n",
       "93     22.2\n",
       "65      9.3\n",
       "60      8.1\n",
       "84     21.7\n",
       "67     13.4\n",
       "125    10.6\n",
       "132     5.7\n",
       "9      10.6\n",
       "18     11.3\n",
       "55     23.7\n",
       "75      8.7\n",
       "150    16.1\n",
       "104    20.7\n",
       "135    11.6\n",
       "137    20.8\n",
       "164    11.9\n",
       "76      6.9\n",
       "79     11.0\n",
       "197    12.8\n",
       "38     10.1\n",
       "24      9.7\n",
       "122    11.6\n",
       "195     7.6\n",
       "29     10.5\n",
       "19     14.6\n",
       "143    10.4\n",
       "86     12.0\n",
       "114    14.6\n",
       "173    11.7\n",
       "5       7.2\n",
       "126     6.6\n",
       "117     9.4\n",
       "73     11.0\n",
       "140    10.9\n",
       "98     25.4\n",
       "172     7.6\n",
       "96     11.7\n",
       "Name: sales, dtype: float64"
      ]
     },
     "execution_count": 67,
     "metadata": {},
     "output_type": "execute_result"
    }
   ],
   "source": [
    "Y_test"
   ]
  },
  {
   "cell_type": "code",
   "execution_count": 18,
   "id": "0d1f0c31",
   "metadata": {},
   "outputs": [
    {
     "data": {
      "text/plain": [
       "LinearRegression()"
      ]
     },
     "execution_count": 18,
     "metadata": {},
     "output_type": "execute_result"
    }
   ],
   "source": [
    "from sklearn.linear_model import LinearRegression\n",
    "model = LinearRegression()\n",
    "model.fit(X_train, Y_train)"
   ]
  },
  {
   "cell_type": "code",
   "execution_count": 19,
   "id": "6724e9b0",
   "metadata": {},
   "outputs": [
    {
     "name": "stdout",
     "output_type": "stream",
     "text": [
      "Model Intercept :  4.199106500868718\n",
      "Model Coefficient :  [0.04895385]\n"
     ]
    }
   ],
   "source": [
    "print('Model Intercept : ', model.intercept_)\n",
    "print('Model Coefficient : ', model.coef_)"
   ]
  },
  {
   "cell_type": "code",
   "execution_count": 69,
   "id": "7c55302c",
   "metadata": {},
   "outputs": [
    {
     "data": {
      "text/plain": [
       "array([13.98987609])"
      ]
     },
     "execution_count": 69,
     "metadata": {},
     "output_type": "execute_result"
    }
   ],
   "source": [
    "model.predict([[200]])"
   ]
  },
  {
   "cell_type": "code",
   "execution_count": 66,
   "id": "dc57060f",
   "metadata": {},
   "outputs": [
    {
     "data": {
      "text/plain": [
       "array([18.68944549])"
      ]
     },
     "execution_count": 66,
     "metadata": {},
     "output_type": "execute_result"
    }
   ],
   "source": [
    "model.predict(X_test.iloc[1].values.reshape(1,1))"
   ]
  },
  {
   "cell_type": "code",
   "execution_count": 21,
   "id": "c8da33b5",
   "metadata": {},
   "outputs": [
    {
     "data": {
      "text/plain": [
       "13.979"
      ]
     },
     "execution_count": 21,
     "metadata": {},
     "output_type": "execute_result"
    }
   ],
   "source": [
    "spend= 200\n",
    "predicted_sale = 4.199 +0.0489*spend\n",
    "predicted_sale"
   ]
  },
  {
   "cell_type": "code",
   "execution_count": 22,
   "id": "107e0ffa",
   "metadata": {},
   "outputs": [
    {
     "data": {
      "text/html": [
       "<div>\n",
       "<style scoped>\n",
       "    .dataframe tbody tr th:only-of-type {\n",
       "        vertical-align: middle;\n",
       "    }\n",
       "\n",
       "    .dataframe tbody tr th {\n",
       "        vertical-align: top;\n",
       "    }\n",
       "\n",
       "    .dataframe thead th {\n",
       "        text-align: right;\n",
       "    }\n",
       "</style>\n",
       "<table border=\"1\" class=\"dataframe\">\n",
       "  <thead>\n",
       "    <tr style=\"text-align: right;\">\n",
       "      <th></th>\n",
       "      <th>total_spend</th>\n",
       "    </tr>\n",
       "  </thead>\n",
       "  <tbody>\n",
       "    <tr>\n",
       "      <th>0</th>\n",
       "      <td>200</td>\n",
       "    </tr>\n",
       "  </tbody>\n",
       "</table>\n",
       "</div>"
      ],
      "text/plain": [
       "   total_spend\n",
       "0          200"
      ]
     },
     "execution_count": 22,
     "metadata": {},
     "output_type": "execute_result"
    }
   ],
   "source": [
    "X_new = pd.DataFrame({'total_spend':[200]})\n",
    "X_new"
   ]
  },
  {
   "cell_type": "code",
   "execution_count": 23,
   "id": "352fb811",
   "metadata": {},
   "outputs": [
    {
     "data": {
      "text/plain": [
       "array([13.98987609])"
      ]
     },
     "execution_count": 23,
     "metadata": {},
     "output_type": "execute_result"
    }
   ],
   "source": [
    "model.predict(X_new)"
   ]
  },
  {
   "cell_type": "markdown",
   "id": "da6f52c3",
   "metadata": {},
   "source": [
    "## Prediction"
   ]
  },
  {
   "cell_type": "code",
   "execution_count": 24,
   "id": "8a41993f",
   "metadata": {},
   "outputs": [],
   "source": [
    "train_prediction = model.predict(X_train)\n",
    "test_prediction = model.predict(X_test)"
   ]
  },
  {
   "cell_type": "code",
   "execution_count": 25,
   "id": "a6d32faf",
   "metadata": {},
   "outputs": [
    {
     "data": {
      "text/plain": [
       "array([18.94890089, 15.35568845, 12.46741142, 10.30854673, 19.04680858,\n",
       "        7.02374353, 20.01609477,  6.85240506, 11.46875292,  7.81679586,\n",
       "        9.76026363,  8.57558051, 15.56129461, 16.39351003, 16.03614694,\n",
       "       15.99208847, 13.2457776 , 15.48296845, 17.73484546, 19.02722705,\n",
       "       10.68059597, 12.18837449, 10.82256213, 15.85012231,  8.71754667,\n",
       "       17.77400854, 12.56042373, 19.6538363 ,  8.42871896, 21.75885176,\n",
       "        8.05177433, 19.11534397, 25.42549497, 18.19501163, 16.0802054 ,\n",
       "       13.56397761, 13.24088222,  9.7700544 , 17.89149777, 14.68991612,\n",
       "       16.43756849, 10.49946673, 18.47404856, 11.60092831, 18.28802394,\n",
       "       11.53728831,  8.90357129, 18.00898701, 13.67167608, 16.73618696,\n",
       "        7.97344818, 20.70144865, 23.37922413, 16.37392849, 17.33831929,\n",
       "       12.52615604, 14.12694687,  8.80566359, 14.36682072, 18.82651627,\n",
       "       16.75087312,  6.11320196,  5.24671885, 13.39753453, 18.19501163,\n",
       "       17.48518084, 19.13492551, 20.67207634, 17.94534701, 18.77266704,\n",
       "       18.7188178 , 18.8803655 , 10.67570058, 14.89062689, 16.03125155,\n",
       "        8.57558051, 16.50120849, 16.10957771, 18.27333779, 18.80693473,\n",
       "       12.39887603, 19.01743628, 17.40195929,  9.84838055, 10.33791903,\n",
       "        9.31478361, 11.61071908, 18.42019933,  7.28809431, 11.46875292,\n",
       "       18.83141165, 16.50120849, 14.43046072,  4.77186652,  9.69662363,\n",
       "       16.41309156, 15.5955623 , 19.4286486 , 22.64491641,  8.07135587,\n",
       "       22.19454101, 11.10649445, 15.52702692, 23.89813492, 11.08691291,\n",
       "       19.24751936,  9.77494978, 15.82564539,  9.446959  , 18.79224858,\n",
       "       18.53768857, 13.36326684, 17.22083006, 12.61916835, 15.03259305,\n",
       "        6.78876506,  9.81411286, 12.51146988, 12.78561143, 14.59690381,\n",
       "       10.5092575 , 18.77266704,  8.65880205,  6.59784505, 12.91778682,\n",
       "       15.11581459, 15.10602382, 12.96674067, 14.69970689, 16.49141772,\n",
       "        8.64901128, 16.40819618, 18.86078396, 19.06149474, 11.82611601,\n",
       "        7.41537431, 18.05304547, 19.38459014, 13.65698993, 19.45802091])"
      ]
     },
     "execution_count": 25,
     "metadata": {},
     "output_type": "execute_result"
    }
   ],
   "source": [
    "train_prediction"
   ]
  },
  {
   "cell_type": "markdown",
   "id": "2e3e302f",
   "metadata": {},
   "source": [
    "## Ploting the Least Square Line"
   ]
  },
  {
   "cell_type": "code",
   "execution_count": 70,
   "id": "888f643d",
   "metadata": {},
   "outputs": [
    {
     "data": {
      "image/png": "[encoded data removed]",
      "text/plain": [
       "<Figure size 432x288 with 1 Axes>"
      ]
     },
     "metadata": {
      "needs_background": "light"
     },
     "output_type": "display_data"
    }
   ],
   "source": [
    "plt.scatter(X_train,Y_train,color='red')\n",
    "train_prediction = model.predict(X_train)\n",
    "plt.plot(X_train,train_prediction)\n",
    "plt.show()"
   ]
  },
  {
   "cell_type": "markdown",
   "id": "55111220",
   "metadata": {},
   "source": [
    "## Evalution Matrics"
   ]
  },
  {
   "cell_type": "code",
   "execution_count": 27,
   "id": "69d13dc5",
   "metadata": {},
   "outputs": [],
   "source": [
    "train_residual = Y_train - train_prediction\n",
    "test_residual = Y_test - test_prediction"
   ]
  },
  {
   "cell_type": "code",
   "execution_count": 28,
   "id": "6fd1eb0f",
   "metadata": {},
   "outputs": [],
   "source": [
    "from sklearn.metrics import mean_absolute_error,mean_squared_error"
   ]
  },
  {
   "cell_type": "code",
   "execution_count": 29,
   "id": "f096dd30",
   "metadata": {},
   "outputs": [
    {
     "data": {
      "text/plain": [
       "1.9143627368130551"
      ]
     },
     "execution_count": 29,
     "metadata": {},
     "output_type": "execute_result"
    }
   ],
   "source": [
    "MAE = mean_absolute_error(Y_test, test_prediction)\n",
    "MAE"
   ]
  },
  {
   "cell_type": "code",
   "execution_count": 30,
   "id": "8afc8e27",
   "metadata": {},
   "outputs": [
    {
     "data": {
      "text/plain": [
       "6.41586631254322"
      ]
     },
     "execution_count": 30,
     "metadata": {},
     "output_type": "execute_result"
    }
   ],
   "source": [
    "MSE = mean_squared_error(Y_test, test_prediction)\n",
    "MSE"
   ]
  },
  {
   "cell_type": "code",
   "execution_count": 31,
   "id": "9b04ab4c",
   "metadata": {},
   "outputs": [
    {
     "data": {
      "text/plain": [
       "2.5329560423629975"
      ]
     },
     "execution_count": 31,
     "metadata": {},
     "output_type": "execute_result"
    }
   ],
   "source": [
    "RMSE = np.sqrt(MSE)\n",
    "RMSE"
   ]
  },
  {
   "cell_type": "code",
   "execution_count": 32,
   "id": "a0d025c9",
   "metadata": {},
   "outputs": [
    {
     "data": {
      "text/plain": [
       "0.7404192834391546"
      ]
     },
     "execution_count": 32,
     "metadata": {},
     "output_type": "execute_result"
    }
   ],
   "source": [
    "model.score(X_train, Y_train)    #### Train R Square"
   ]
  },
  {
   "cell_type": "code",
   "execution_count": 33,
   "id": "da206015",
   "metadata": {},
   "outputs": [
    {
     "data": {
      "text/plain": [
       "0.7650262463310722"
      ]
     },
     "execution_count": 33,
     "metadata": {},
     "output_type": "execute_result"
    }
   ],
   "source": [
    "model.score(X_test, Y_test)     #### Train R Square"
   ]
  },
  {
   "cell_type": "code",
   "execution_count": 34,
   "id": "6ea1b78a",
   "metadata": {},
   "outputs": [],
   "source": [
    "from sklearn.metrics import r2_score"
   ]
  },
  {
   "cell_type": "code",
   "execution_count": 35,
   "id": "4ddf478f",
   "metadata": {},
   "outputs": [
    {
     "data": {
      "text/plain": [
       "0.7650262463310722"
      ]
     },
     "execution_count": 35,
     "metadata": {},
     "output_type": "execute_result"
    }
   ],
   "source": [
    "r2_score(Y_test, test_prediction)"
   ]
  },
  {
   "cell_type": "code",
   "execution_count": 36,
   "id": "56fb39a8",
   "metadata": {},
   "outputs": [
    {
     "data": {
      "text/plain": [
       "0.7404192834391546"
      ]
     },
     "execution_count": 36,
     "metadata": {},
     "output_type": "execute_result"
    }
   ],
   "source": [
    "r2_score(Y_train, train_prediction)"
   ]
  },
  {
   "cell_type": "code",
   "execution_count": 37,
   "id": "70dfdb41",
   "metadata": {},
   "outputs": [
    {
     "data": {
      "text/plain": [
       "array([0.74964192, 0.79455226, 0.76417134, 0.74872042, 0.65980565])"
      ]
     },
     "execution_count": 37,
     "metadata": {},
     "output_type": "execute_result"
    }
   ],
   "source": [
    "from sklearn.model_selection import cross_val_score\n",
    "scores = cross_val_score(model, X, Y, cv=5)\n",
    "scores"
   ]
  },
  {
   "cell_type": "code",
   "execution_count": 38,
   "id": "6fa12c11",
   "metadata": {},
   "outputs": [
    {
     "data": {
      "text/plain": [
       "0.743378317855542"
      ]
     },
     "execution_count": 38,
     "metadata": {},
     "output_type": "execute_result"
    }
   ],
   "source": [
    "abs(scores.mean())     #### No overfitting & No underfitting"
   ]
  },
  {
   "cell_type": "markdown",
   "id": "38432d0b",
   "metadata": {},
   "source": [
    "## Diagnosis Test"
   ]
  },
  {
   "cell_type": "markdown",
   "id": "6fc8255e",
   "metadata": {},
   "source": [
    "## 1 - Linearity"
   ]
  },
  {
   "cell_type": "code",
   "execution_count": 39,
   "id": "5afa6811",
   "metadata": {},
   "outputs": [
    {
     "data": {
      "image/png": "[encoded data removed]",
      "text/plain": [
       "<Figure size 432x288 with 1 Axes>"
      ]
     },
     "metadata": {
      "needs_background": "light"
     },
     "output_type": "display_data"
    }
   ],
   "source": [
    "plt.scatter(Y_test, test_residual)\n",
    "plt.xlabel('Observed Value')\n",
    "plt.ylabel('Fitted Value')\n",
    "plt.show()"
   ]
  },
  {
   "cell_type": "markdown",
   "id": "9445b785",
   "metadata": {},
   "source": [
    "## 2 - Normality"
   ]
  },
  {
   "cell_type": "code",
   "execution_count": 40,
   "id": "ad3547a2",
   "metadata": {},
   "outputs": [
    {
     "name": "stderr",
     "output_type": "stream",
     "text": [
      "C:\\Users\\dell\\anaconda3\\lib\\site-packages\\seaborn\\distributions.py:2557: FutureWarning: `distplot` is a deprecated function and will be removed in a future version. Please adapt your code to use either `displot` (a figure-level function with similar flexibility) or `histplot` (an axes-level function for histograms).\n",
      "  warnings.warn(msg, FutureWarning)\n"
     ]
    },
    {
     "data": {
      "image/png": "[encoded data removed]",
      "text/plain": [
       "<Figure size 432x288 with 1 Axes>"
      ]
     },
     "metadata": {
      "needs_background": "light"
     },
     "output_type": "display_data"
    }
   ],
   "source": [
    "sns.distplot(test_residual,kde=True)\n",
    "plt.show()"
   ]
  },
  {
   "cell_type": "markdown",
   "id": "b7153c67",
   "metadata": {},
   "source": [
    "## 3 - Homoscadesicity"
   ]
  },
  {
   "cell_type": "code",
   "execution_count": 41,
   "id": "309e6fed",
   "metadata": {},
   "outputs": [
    {
     "data": {
      "image/png": "[encoded data removed]",
      "text/plain": [
       "<Figure size 432x288 with 1 Axes>"
      ]
     },
     "metadata": {
      "needs_background": "light"
     },
     "output_type": "display_data"
    }
   ],
   "source": [
    "plt.scatter(test_prediction,test_residual, c='r')\n",
    "plt.axhline(y=0,color='blue')\n",
    "plt.xlabel('fitted values')\n",
    "plt.ylabel('residuals')\n",
    "plt.show()"
   ]
  },
  {
   "cell_type": "code",
   "execution_count": 42,
   "id": "31173b48",
   "metadata": {},
   "outputs": [
    {
     "data": {
      "text/html": [
       "<table class=\"simpletable\">\n",
       "<caption>OLS Regression Results</caption>\n",
       "<tr>\n",
       "  <th>Dep. Variable:</th>            <td>Y</td>        <th>  R-squared:         </th> <td>   0.753</td>\n",
       "</tr>\n",
       "<tr>\n",
       "  <th>Model:</th>                   <td>OLS</td>       <th>  Adj. R-squared:    </th> <td>   0.752</td>\n",
       "</tr>\n",
       "<tr>\n",
       "  <th>Method:</th>             <td>Least Squares</td>  <th>  F-statistic:       </th> <td>   603.4</td>\n",
       "</tr>\n",
       "<tr>\n",
       "  <th>Date:</th>             <td>Sun, 06 Feb 2022</td> <th>  Prob (F-statistic):</th> <td>5.06e-62</td>\n",
       "</tr>\n",
       "<tr>\n",
       "  <th>Time:</th>                 <td>19:36:18</td>     <th>  Log-Likelihood:    </th> <td> -473.88</td>\n",
       "</tr>\n",
       "<tr>\n",
       "  <th>No. Observations:</th>      <td>   200</td>      <th>  AIC:               </th> <td>   951.8</td>\n",
       "</tr>\n",
       "<tr>\n",
       "  <th>Df Residuals:</th>          <td>   198</td>      <th>  BIC:               </th> <td>   958.4</td>\n",
       "</tr>\n",
       "<tr>\n",
       "  <th>Df Model:</th>              <td>     1</td>      <th>                     </th>     <td> </td>   \n",
       "</tr>\n",
       "<tr>\n",
       "  <th>Covariance Type:</th>      <td>nonrobust</td>    <th>                     </th>     <td> </td>   \n",
       "</tr>\n",
       "</table>\n",
       "<table class=\"simpletable\">\n",
       "<tr>\n",
       "      <td></td>         <th>coef</th>     <th>std err</th>      <th>t</th>      <th>P>|t|</th>  <th>[0.025</th>    <th>0.975]</th>  \n",
       "</tr>\n",
       "<tr>\n",
       "  <th>Intercept</th> <td>    4.2430</td> <td>    0.439</td> <td>    9.676</td> <td> 0.000</td> <td>    3.378</td> <td>    5.108</td>\n",
       "</tr>\n",
       "<tr>\n",
       "  <th>X</th>         <td>    0.0487</td> <td>    0.002</td> <td>   24.564</td> <td> 0.000</td> <td>    0.045</td> <td>    0.053</td>\n",
       "</tr>\n",
       "</table>\n",
       "<table class=\"simpletable\">\n",
       "<tr>\n",
       "  <th>Omnibus:</th>       <td> 6.851</td> <th>  Durbin-Watson:     </th> <td>   1.967</td>\n",
       "</tr>\n",
       "<tr>\n",
       "  <th>Prob(Omnibus):</th> <td> 0.033</td> <th>  Jarque-Bera (JB):  </th> <td>   6.692</td>\n",
       "</tr>\n",
       "<tr>\n",
       "  <th>Skew:</th>          <td>-0.373</td> <th>  Prob(JB):          </th> <td>  0.0352</td>\n",
       "</tr>\n",
       "<tr>\n",
       "  <th>Kurtosis:</th>      <td> 3.495</td> <th>  Cond. No.          </th> <td>    528.</td>\n",
       "</tr>\n",
       "</table><br/><br/>Notes:<br/>[1] Standard Errors assume that the covariance matrix of the errors is correctly specified."
      ],
      "text/plain": [
       "<class 'statsmodels.iolib.summary.Summary'>\n",
       "\"\"\"\n",
       "                            OLS Regression Results                            \n",
       "==============================================================================\n",
       "Dep. Variable:                      Y   R-squared:                       0.753\n",
       "Model:                            OLS   Adj. R-squared:                  0.752\n",
       "Method:                 Least Squares   F-statistic:                     603.4\n",
       "Date:                Sun, 06 Feb 2022   Prob (F-statistic):           5.06e-62\n",
       "Time:                        19:36:18   Log-Likelihood:                -473.88\n",
       "No. Observations:                 200   AIC:                             951.8\n",
       "Df Residuals:                     198   BIC:                             958.4\n",
       "Df Model:                           1                                         \n",
       "Covariance Type:            nonrobust                                         \n",
       "==============================================================================\n",
       "                 coef    std err          t      P>|t|      [0.025      0.975]\n",
       "------------------------------------------------------------------------------\n",
       "Intercept      4.2430      0.439      9.676      0.000       3.378       5.108\n",
       "X              0.0487      0.002     24.564      0.000       0.045       0.053\n",
       "==============================================================================\n",
       "Omnibus:                        6.851   Durbin-Watson:                   1.967\n",
       "Prob(Omnibus):                  0.033   Jarque-Bera (JB):                6.692\n",
       "Skew:                          -0.373   Prob(JB):                       0.0352\n",
       "Kurtosis:                       3.495   Cond. No.                         528.\n",
       "==============================================================================\n",
       "\n",
       "Notes:\n",
       "[1] Standard Errors assume that the covariance matrix of the errors is correctly specified.\n",
       "\"\"\""
      ]
     },
     "execution_count": 42,
     "metadata": {},
     "output_type": "execute_result"
    }
   ],
   "source": [
    "import statsmodels.formula.api as smf\n",
    "m = smf.ols('Y~X', data=df).fit()\n",
    "m.summary()"
   ]
  },
  {
   "cell_type": "markdown",
   "id": "e8f8b956",
   "metadata": {},
   "source": [
    "## Retaining Model on Full Data"
   ]
  },
  {
   "cell_type": "code",
   "execution_count": 43,
   "id": "4c11a468",
   "metadata": {},
   "outputs": [
    {
     "data": {
      "text/plain": [
       "array([0.04868788])"
      ]
     },
     "execution_count": 43,
     "metadata": {},
     "output_type": "execute_result"
    }
   ],
   "source": [
    "final_model = LinearRegression()\n",
    "final_model.fit(X,Y)\n",
    "final_model.coef_"
   ]
  },
  {
   "cell_type": "code",
   "execution_count": 44,
   "id": "42e04fa8",
   "metadata": {},
   "outputs": [
    {
     "data": {
      "text/plain": [
       "array([13.98060408])"
      ]
     },
     "execution_count": 44,
     "metadata": {},
     "output_type": "execute_result"
    }
   ],
   "source": [
    "final_model.predict([[200]])"
   ]
  },
  {
   "cell_type": "markdown",
   "id": "b3868eb7",
   "metadata": {},
   "source": [
    "## Deployment"
   ]
  },
  {
   "cell_type": "code",
   "execution_count": 45,
   "id": "73d7f84f",
   "metadata": {},
   "outputs": [],
   "source": [
    "from joblib import dump"
   ]
  },
  {
   "cell_type": "code",
   "execution_count": 46,
   "id": "4beec506",
   "metadata": {},
   "outputs": [
    {
     "data": {
      "text/plain": [
       "['sales_model.joblib']"
      ]
     },
     "execution_count": 46,
     "metadata": {},
     "output_type": "execute_result"
    }
   ],
   "source": [
    "dump(final_model, 'sales_model.joblib')"
   ]
  },
  {
   "cell_type": "markdown",
   "id": "51753e5d",
   "metadata": {},
   "source": [
    "## Load Model"
   ]
  },
  {
   "cell_type": "code",
   "execution_count": 47,
   "id": "9cc18ecf",
   "metadata": {},
   "outputs": [],
   "source": [
    "from joblib import load"
   ]
  },
  {
   "cell_type": "code",
   "execution_count": 48,
   "id": "10e8b6ac",
   "metadata": {},
   "outputs": [],
   "source": [
    "loaded_model = load('sales_model.joblib')"
   ]
  },
  {
   "cell_type": "code",
   "execution_count": 49,
   "id": "3ee26531",
   "metadata": {},
   "outputs": [
    {
     "data": {
      "text/plain": [
       "4.243028216036329"
      ]
     },
     "execution_count": 49,
     "metadata": {},
     "output_type": "execute_result"
    }
   ],
   "source": [
    "loaded_model.intercept_"
   ]
  },
  {
   "cell_type": "code",
   "execution_count": 50,
   "id": "87ffdcf9",
   "metadata": {},
   "outputs": [
    {
     "data": {
      "text/plain": [
       "array([0.04868788])"
      ]
     },
     "execution_count": 50,
     "metadata": {},
     "output_type": "execute_result"
    }
   ],
   "source": [
    "loaded_model.coef_"
   ]
  },
  {
   "cell_type": "code",
   "execution_count": 51,
   "id": "a564120b",
   "metadata": {},
   "outputs": [
    {
     "data": {
      "text/plain": [
       "array([13.98060408])"
      ]
     },
     "execution_count": 51,
     "metadata": {},
     "output_type": "execute_result"
    }
   ],
   "source": [
    "loaded_model.predict([[200]])"
   ]
  },
  {
   "cell_type": "code",
   "execution_count": 52,
   "id": "952565ab",
   "metadata": {},
   "outputs": [],
   "source": [
    "from sklearn.preprocessing import PolynomialFeatures"
   ]
  },
  {
   "cell_type": "code",
   "execution_count": 53,
   "id": "814c3562",
   "metadata": {},
   "outputs": [],
   "source": [
    "poly = PolynomialFeatures(degree=2,include_bias=False)\n",
    "X_poly = poly.fit_transform(X)"
   ]
  },
  {
   "cell_type": "code",
   "execution_count": 54,
   "id": "fa0136b4",
   "metadata": {},
   "outputs": [
    {
     "data": {
      "text/plain": [
       "array([[3.3710000e+02, 1.1363641e+05],\n",
       "       [1.2890000e+02, 1.6615210e+04],\n",
       "       [1.3240000e+02, 1.7529760e+04],\n",
       "       [2.5130000e+02, 6.3151690e+04],\n",
       "       [2.5000000e+02, 6.2500000e+04],\n",
       "       [1.3260000e+02, 1.7582760e+04],\n",
       "       [1.1380000e+02, 1.2950440e+04],\n",
       "       [1.5140000e+02, 2.2921960e+04],\n",
       "       [1.1700000e+01, 1.3689000e+02],\n",
       "       [2.2360000e+02, 4.9996960e+04],\n",
       "       [9.6100000e+01, 9.2352100e+03],\n",
       "       [2.4270000e+02, 5.8903290e+04],\n",
       "       [1.2480000e+02, 1.5575040e+04],\n",
       "       [1.1230000e+02, 1.2611290e+04],\n",
       "       [2.8300000e+02, 8.0089000e+04],\n",
       "       [2.9600000e+02, 8.7616000e+04],\n",
       "       [2.1840000e+02, 4.7698560e+04],\n",
       "       [3.7680000e+02, 1.4197824e+05],\n",
       "       [1.0800000e+02, 1.1664000e+04],\n",
       "       [1.9030000e+02, 3.6214090e+04],\n",
       "       [2.9950000e+02, 8.9700250e+04],\n",
       "       [2.6600000e+02, 7.0756000e+04],\n",
       "       [7.8700000e+01, 6.1936900e+03],\n",
       "       [2.7140000e+02, 7.3657960e+04],\n",
       "       [9.3200000e+01, 8.6862400e+03],\n",
       "       [2.8590000e+02, 8.1738810e+04],\n",
       "       [1.8480000e+02, 3.4151040e+04],\n",
       "       [2.7970000e+02, 7.8232090e+04],\n",
       "       [2.9880000e+02, 8.9281440e+04],\n",
       "       [1.2740000e+02, 1.6230760e+04],\n",
       "       [3.6440000e+02, 1.3278736e+05],\n",
       "       [1.6890000e+02, 2.8527210e+04],\n",
       "       [1.2870000e+02, 1.6563690e+04],\n",
       "       [2.8590000e+02, 8.1738810e+04],\n",
       "       [1.0450000e+02, 1.0920250e+04],\n",
       "       [3.0330000e+02, 9.1990890e+04],\n",
       "       [3.1570000e+02, 9.9666490e+04],\n",
       "       [1.6980000e+02, 2.8832040e+04],\n",
       "       [1.0490000e+02, 1.1004010e+04],\n",
       "       [2.9770000e+02, 8.8625290e+04],\n",
       "       [2.5640000e+02, 6.5740960e+04],\n",
       "       [2.4910000e+02, 6.2050810e+04],\n",
       "       [3.2310000e+02, 1.0439361e+05],\n",
       "       [2.4170000e+02, 5.8418890e+04],\n",
       "       [9.4100000e+01, 8.8548100e+03],\n",
       "       [2.2910000e+02, 5.2486810e+04],\n",
       "       [1.3530000e+02, 1.8306090e+04],\n",
       "       [2.9990000e+02, 8.9940010e+04],\n",
       "       [2.9290000e+02, 8.5790410e+04],\n",
       "       [1.1540000e+02, 1.3317160e+04],\n",
       "       [2.3750000e+02, 5.6406250e+04],\n",
       "       [1.1360000e+02, 1.2904960e+04],\n",
       "       [2.9770000e+02, 8.8625290e+04],\n",
       "       [2.8750000e+02, 8.2656250e+04],\n",
       "       [3.0740000e+02, 9.4494760e+04],\n",
       "       [3.0830000e+02, 9.5048890e+04],\n",
       "       [7.6800000e+01, 5.8982400e+03],\n",
       "       [1.7200000e+02, 2.9584000e+04],\n",
       "       [2.9810000e+02, 8.8863610e+04],\n",
       "       [2.4950000e+02, 6.2250250e+04],\n",
       "       [7.6900000e+01, 5.9136100e+03],\n",
       "       [3.5870000e+02, 1.2866569e+05],\n",
       "       [2.8210000e+02, 7.9580410e+04],\n",
       "       [1.4070000e+02, 1.9796490e+04],\n",
       "       [2.0280000e+02, 4.1127840e+04],\n",
       "       [7.9200000e+01, 6.2726400e+03],\n",
       "       [5.8300000e+01, 3.3988900e+03],\n",
       "       [1.6400000e+02, 2.6896000e+04],\n",
       "       [2.7590000e+02, 7.6120810e+04],\n",
       "       [2.8790000e+02, 8.2886410e+04],\n",
       "       [2.6840000e+02, 7.2038560e+04],\n",
       "       [1.5580000e+02, 2.4273640e+04],\n",
       "       [7.9100000e+01, 6.2568100e+03],\n",
       "       [1.6640000e+02, 2.7688960e+04],\n",
       "       [2.5110000e+02, 6.3051210e+04],\n",
       "       [1.5000000e+02, 2.2500000e+04],\n",
       "       [4.9800000e+01, 2.4800400e+03],\n",
       "       [1.6320000e+02, 2.6634240e+04],\n",
       "       [4.4700000e+01, 1.9980900e+03],\n",
       "       [1.4680000e+02, 2.1550240e+04],\n",
       "       [1.2540000e+02, 1.5725160e+04],\n",
       "       [2.8080000e+02, 7.8848640e+04],\n",
       "       [1.2810000e+02, 1.6409610e+04],\n",
       "       [1.4850000e+02, 2.2052250e+04],\n",
       "       [2.9030000e+02, 8.4274090e+04],\n",
       "       [2.7730000e+02, 7.6895290e+04],\n",
       "       [1.1980000e+02, 1.4352040e+04],\n",
       "       [2.1450000e+02, 4.6010250e+04],\n",
       "       [1.8720000e+02, 3.5043840e+04],\n",
       "       [2.0900000e+02, 4.3681000e+04],\n",
       "       [1.4850000e+02, 2.2052250e+04],\n",
       "       [6.3100000e+01, 3.9816100e+03],\n",
       "       [3.1020000e+02, 9.6224040e+04],\n",
       "       [3.5970000e+02, 1.2938409e+05],\n",
       "       [1.3230000e+02, 1.7503290e+04],\n",
       "       [2.4780000e+02, 6.1404840e+04],\n",
       "       [2.0700000e+02, 4.2849000e+04],\n",
       "       [2.2790000e+02, 5.1938410e+04],\n",
       "       [3.8320000e+02, 1.4684224e+05],\n",
       "       [2.2280000e+02, 4.9639840e+04],\n",
       "       [2.7650000e+02, 7.6452250e+04],\n",
       "       [4.3360000e+02, 1.8800896e+05],\n",
       "       [3.1170000e+02, 9.7156890e+04],\n",
       "       [2.2300000e+02, 4.9729000e+04],\n",
       "       [2.7780000e+02, 7.7172840e+04],\n",
       "       [2.4330000e+02, 5.9194890e+04],\n",
       "       [6.5700000e+01, 4.3164900e+03],\n",
       "       [1.1390000e+02, 1.2973210e+04],\n",
       "       [3.9100000e+01, 1.5288100e+03],\n",
       "       [2.8780000e+02, 8.2828840e+04],\n",
       "       [2.9050000e+02, 8.4390250e+04],\n",
       "       [3.0290000e+02, 9.1748410e+04],\n",
       "       [1.9350000e+02, 3.7442250e+04],\n",
       "       [2.4090000e+02, 5.8032810e+04],\n",
       "       [1.5950000e+02, 2.5440250e+04],\n",
       "       [1.6280000e+02, 2.6503840e+04],\n",
       "       [1.7910000e+02, 3.2076810e+04],\n",
       "       [9.2000000e+01, 8.4640000e+03],\n",
       "       [2.4180000e+02, 5.8467240e+04],\n",
       "       [5.7700000e+01, 3.3292900e+03],\n",
       "       [2.1430000e+02, 4.5924490e+04],\n",
       "       [9.0900000e+01, 8.2628100e+03],\n",
       "       [2.4200000e+02, 5.8564000e+04],\n",
       "       [1.7010000e+02, 2.8934010e+04],\n",
       "       [3.3600000e+02, 1.1289600e+05],\n",
       "       [1.2490000e+02, 1.5600010e+04],\n",
       "       [9.7300000e+01, 9.4672900e+03],\n",
       "       [8.9400000e+01, 7.9923600e+03],\n",
       "       [2.7250000e+02, 7.4256250e+04],\n",
       "       [1.1470000e+02, 1.3156090e+04],\n",
       "       [4.9000000e+01, 2.4010000e+03],\n",
       "       [3.1110000e+02, 9.6783210e+04],\n",
       "       [3.7700000e+01, 1.4212900e+03],\n",
       "       [2.9840000e+02, 8.9042560e+04],\n",
       "       [1.4110000e+02, 1.9909210e+04],\n",
       "       [1.0380000e+02, 1.0774440e+04],\n",
       "       [7.3900000e+01, 5.4612100e+03],\n",
       "       [3.6230000e+02, 1.3126129e+05],\n",
       "       [8.9400000e+01, 7.9923600e+03],\n",
       "       [2.3050000e+02, 5.3130250e+04],\n",
       "       [1.0330000e+02, 1.0670890e+04],\n",
       "       [3.0470000e+02, 9.2842090e+04],\n",
       "       [2.9160000e+02, 8.5030560e+04],\n",
       "       [1.4470000e+02, 2.0938090e+04],\n",
       "       [1.4990000e+02, 2.2470010e+04],\n",
       "       [1.5120000e+02, 2.2861440e+04],\n",
       "       [2.5610000e+02, 6.5587210e+04],\n",
       "       [3.3650000e+02, 1.1323225e+05],\n",
       "       [9.0200000e+01, 8.1360400e+03],\n",
       "       [9.1100000e+01, 8.2992100e+03],\n",
       "       [3.3160000e+02, 1.0995856e+05],\n",
       "       [1.7810000e+02, 3.1719610e+04],\n",
       "       [2.3510000e+02, 5.5272010e+04],\n",
       "       [2.4870000e+02, 6.1851690e+04],\n",
       "       [2.1840000e+02, 4.7698560e+04],\n",
       "       [2.1400000e+01, 4.5796000e+02],\n",
       "       [1.8790000e+02, 3.5306410e+04],\n",
       "       [1.7540000e+02, 3.0765160e+04],\n",
       "       [9.3800000e+01, 8.7984400e+03],\n",
       "       [1.8470000e+02, 3.4114090e+04],\n",
       "       [2.2130000e+02, 4.8973690e+04],\n",
       "       [1.7080000e+02, 2.9172640e+04],\n",
       "       [2.3210000e+02, 5.3870410e+04],\n",
       "       [2.0770000e+02, 4.3139290e+04],\n",
       "       [1.3730000e+02, 1.8851290e+04],\n",
       "       [3.2270000e+02, 1.0413529e+05],\n",
       "       [7.7100000e+01, 5.9444100e+03],\n",
       "       [2.3140000e+02, 5.3545960e+04],\n",
       "       [2.9660000e+02, 8.7971560e+04],\n",
       "       [3.0130000e+02, 9.0781690e+04],\n",
       "       [8.0000000e+01, 6.4000000e+03],\n",
       "       [2.3280000e+02, 5.4195840e+04],\n",
       "       [5.6700000e+01, 3.2148900e+03],\n",
       "       [1.8830000e+02, 3.5456890e+04],\n",
       "       [2.3890000e+02, 5.7073210e+04],\n",
       "       [3.6760000e+02, 1.3512976e+05],\n",
       "       [2.9890000e+02, 8.9341210e+04],\n",
       "       [2.1320000e+02, 4.5454240e+04],\n",
       "       [3.0270000e+02, 9.1627290e+04],\n",
       "       [1.9320000e+02, 3.7326240e+04],\n",
       "       [1.6750000e+02, 2.8056250e+04],\n",
       "       [2.5130000e+02, 6.3151690e+04],\n",
       "       [9.1600000e+01, 8.3905600e+03],\n",
       "       [4.0240000e+02, 1.6192576e+05],\n",
       "       [3.0510000e+02, 9.3086010e+04],\n",
       "       [2.6970000e+02, 7.2738090e+04],\n",
       "       [1.6820000e+02, 2.8291240e+04],\n",
       "       [2.3800000e+02, 5.6644000e+04],\n",
       "       [3.0360000e+02, 9.2172960e+04],\n",
       "       [5.4200000e+01, 2.9376400e+03],\n",
       "       [8.6400000e+01, 7.4649600e+03],\n",
       "       [9.2300000e+01, 8.5192900e+03],\n",
       "       [5.2900000e+01, 2.7984100e+03],\n",
       "       [2.1240000e+02, 4.5113760e+04],\n",
       "       [1.9130000e+02, 3.6595690e+04],\n",
       "       [5.5700000e+01, 3.1024900e+03],\n",
       "       [1.0720000e+02, 1.1491840e+04],\n",
       "       [1.9270000e+02, 3.7133290e+04],\n",
       "       [3.9180000e+02, 1.5350724e+05],\n",
       "       [2.4940000e+02, 6.2200360e+04]])"
      ]
     },
     "execution_count": 54,
     "metadata": {},
     "output_type": "execute_result"
    }
   ],
   "source": [
    "X_poly"
   ]
  },
  {
   "cell_type": "code",
   "execution_count": 55,
   "id": "02302a6c",
   "metadata": {},
   "outputs": [],
   "source": [
    "x= 6*np.random.rand(200,1)-3\n",
    "y=0.8*x**2 + 0.9*x + 2 + np.random.rand(200,1)"
   ]
  },
  {
   "cell_type": "code",
   "execution_count": 56,
   "id": "95eba960",
   "metadata": {},
   "outputs": [
    {
     "data": {
      "text/plain": [
       "[<matplotlib.lines.Line2D at 0x1fa2d74c940>]"
      ]
     },
     "execution_count": 56,
     "metadata": {},
     "output_type": "execute_result"
    },
    {
     "data": {
      "image/png": "[encoded data removed]",
      "text/plain": [
       "<Figure size 432x288 with 1 Axes>"
      ]
     },
     "metadata": {
      "needs_background": "light"
     },
     "output_type": "display_data"
    }
   ],
   "source": [
    "plt.plot(x,y,'b.')"
   ]
  },
  {
   "cell_type": "code",
   "execution_count": 57,
   "id": "9343a7f0",
   "metadata": {},
   "outputs": [
    {
     "data": {
      "text/plain": [
       "array([[ 1.40529802],\n",
       "       [ 0.37854465],\n",
       "       [ 0.49149496],\n",
       "       [-2.15357823],\n",
       "       [-1.89358903],\n",
       "       [ 1.62756372],\n",
       "       [ 2.79360425],\n",
       "       [-1.93829836],\n",
       "       [-0.87942077],\n",
       "       [-1.51017222],\n",
       "       [-1.83717932],\n",
       "       [ 2.47964882],\n",
       "       [-1.97507254],\n",
       "       [-0.71765312],\n",
       "       [-0.7609941 ],\n",
       "       [-2.54019415],\n",
       "       [-2.67431722],\n",
       "       [-2.41321468],\n",
       "       [-2.39264553],\n",
       "       [-2.0828311 ],\n",
       "       [-2.52002981],\n",
       "       [ 1.77563822],\n",
       "       [-1.1117983 ],\n",
       "       [ 2.67965748],\n",
       "       [-0.753059  ],\n",
       "       [-1.55419168],\n",
       "       [ 2.24556991],\n",
       "       [ 1.33872983],\n",
       "       [-0.13644028],\n",
       "       [ 0.8878927 ],\n",
       "       [ 1.79013459],\n",
       "       [-1.8699516 ],\n",
       "       [ 1.36441107],\n",
       "       [-1.77510703],\n",
       "       [-1.20952901],\n",
       "       [-1.21872047],\n",
       "       [ 2.12041475],\n",
       "       [ 1.47003405],\n",
       "       [ 2.28678658],\n",
       "       [-1.98958822],\n",
       "       [-1.73587432],\n",
       "       [ 1.03551635],\n",
       "       [-2.10508558],\n",
       "       [ 2.06870188],\n",
       "       [-2.10198798],\n",
       "       [-2.38092692],\n",
       "       [-2.66189096],\n",
       "       [ 2.67462008],\n",
       "       [-2.39501945],\n",
       "       [-0.54708104],\n",
       "       [-0.34643947],\n",
       "       [-0.98206339],\n",
       "       [-1.65695174],\n",
       "       [ 0.82285841],\n",
       "       [-2.94346442],\n",
       "       [-2.6112984 ],\n",
       "       [-1.70304597],\n",
       "       [-2.50958008],\n",
       "       [-2.05843017],\n",
       "       [-0.11031046],\n",
       "       [ 2.92066628],\n",
       "       [ 1.04658204],\n",
       "       [ 2.8897859 ],\n",
       "       [ 0.37688158],\n",
       "       [ 0.6344335 ],\n",
       "       [-2.32238135],\n",
       "       [-2.6406076 ],\n",
       "       [ 2.63017558],\n",
       "       [ 2.35462762],\n",
       "       [ 1.19979251],\n",
       "       [ 1.28159533],\n",
       "       [-2.10154101],\n",
       "       [-1.32592289],\n",
       "       [ 1.73890142],\n",
       "       [-2.59302634],\n",
       "       [ 1.05834545],\n",
       "       [-2.18804213],\n",
       "       [ 1.49085723],\n",
       "       [ 0.22735476],\n",
       "       [ 0.14141979],\n",
       "       [ 1.15076345],\n",
       "       [-2.08922346],\n",
       "       [-1.06345031],\n",
       "       [-0.3028947 ],\n",
       "       [-2.13310496],\n",
       "       [ 2.04289251],\n",
       "       [-0.31283759],\n",
       "       [-2.93891891],\n",
       "       [ 1.14690135],\n",
       "       [ 2.33683966],\n",
       "       [-2.39199629],\n",
       "       [-2.25789462],\n",
       "       [-2.24539293],\n",
       "       [-2.45621449],\n",
       "       [-0.97359566],\n",
       "       [-0.30774186],\n",
       "       [ 2.54784017],\n",
       "       [ 1.51275611],\n",
       "       [-1.06713514],\n",
       "       [-2.70398054],\n",
       "       [-1.28260724],\n",
       "       [-2.86198303],\n",
       "       [ 0.79953587],\n",
       "       [-0.78785341],\n",
       "       [-2.3818799 ],\n",
       "       [-2.34009854],\n",
       "       [ 2.20584967],\n",
       "       [-2.74605361],\n",
       "       [-0.41408282],\n",
       "       [ 2.39449153],\n",
       "       [ 0.51155326],\n",
       "       [-1.71351142],\n",
       "       [ 2.18248175],\n",
       "       [ 2.17133302],\n",
       "       [ 1.52170304],\n",
       "       [-1.64364889],\n",
       "       [ 2.98701712],\n",
       "       [-2.1519537 ],\n",
       "       [-0.36466748],\n",
       "       [ 2.58874113],\n",
       "       [-2.35287931],\n",
       "       [ 0.89276265],\n",
       "       [-0.45512637],\n",
       "       [-2.32128467],\n",
       "       [-0.73584563],\n",
       "       [ 2.88593019],\n",
       "       [-1.94030081],\n",
       "       [-0.02311248],\n",
       "       [ 1.45118553],\n",
       "       [ 0.23997672],\n",
       "       [-2.96939238],\n",
       "       [-0.06956032],\n",
       "       [-1.62005291],\n",
       "       [-2.34622568],\n",
       "       [-0.74414284],\n",
       "       [ 0.49407188],\n",
       "       [-0.21557424],\n",
       "       [-2.48679133],\n",
       "       [ 1.78767953],\n",
       "       [ 1.19821996],\n",
       "       [ 0.60601122],\n",
       "       [ 2.16617621],\n",
       "       [ 2.02562125],\n",
       "       [ 2.50984767],\n",
       "       [-0.27868204],\n",
       "       [-2.30483877],\n",
       "       [-2.60581584],\n",
       "       [-0.8127202 ],\n",
       "       [ 0.54429353],\n",
       "       [-2.17864087],\n",
       "       [ 1.63709645],\n",
       "       [ 2.83332272],\n",
       "       [-0.04056655],\n",
       "       [-0.62988535],\n",
       "       [-2.68013707],\n",
       "       [ 0.49558122],\n",
       "       [-2.64754489],\n",
       "       [ 2.95991773],\n",
       "       [-1.63912905],\n",
       "       [ 1.42955155],\n",
       "       [-0.88038769],\n",
       "       [ 2.90556824],\n",
       "       [ 1.78919683],\n",
       "       [ 1.40653483],\n",
       "       [ 1.1991573 ],\n",
       "       [-0.21647145],\n",
       "       [-2.79751367],\n",
       "       [ 0.6874747 ],\n",
       "       [-0.70015728],\n",
       "       [-0.45578659],\n",
       "       [ 1.37395929],\n",
       "       [-2.85879118],\n",
       "       [-0.34027096],\n",
       "       [ 0.39535331],\n",
       "       [ 2.27590389],\n",
       "       [ 1.68173218],\n",
       "       [ 2.55289007],\n",
       "       [-0.64775063],\n",
       "       [-2.4973059 ],\n",
       "       [ 2.20134639],\n",
       "       [-0.69349912],\n",
       "       [ 1.87701873],\n",
       "       [-2.54995429],\n",
       "       [ 1.27502235],\n",
       "       [-1.57668896],\n",
       "       [ 1.78804919],\n",
       "       [ 2.37437654],\n",
       "       [-1.99932046],\n",
       "       [-1.04019059],\n",
       "       [ 0.86738893],\n",
       "       [-0.99558908],\n",
       "       [ 1.30440495],\n",
       "       [ 2.49148024],\n",
       "       [-1.76632896],\n",
       "       [ 2.71854672],\n",
       "       [-2.14022411],\n",
       "       [-0.72975443],\n",
       "       [-0.11213598],\n",
       "       [ 0.17077313],\n",
       "       [-2.1062895 ]])"
      ]
     },
     "execution_count": 57,
     "metadata": {},
     "output_type": "execute_result"
    }
   ],
   "source": [
    "x"
   ]
  },
  {
   "cell_type": "code",
   "execution_count": 58,
   "id": "eeecb45c",
   "metadata": {},
   "outputs": [
    {
     "data": {
      "text/plain": [
       "array([[ 5.12004982],\n",
       "       [ 3.44255031],\n",
       "       [ 3.25827303],\n",
       "       [ 3.84137328],\n",
       "       [ 3.85996814],\n",
       "       [ 5.64896944],\n",
       "       [11.2914974 ],\n",
       "       [ 3.9424452 ],\n",
       "       [ 2.6390737 ],\n",
       "       [ 3.38364641],\n",
       "       [ 3.2624804 ],\n",
       "       [ 9.73932274],\n",
       "       [ 3.6764962 ],\n",
       "       [ 2.6494537 ],\n",
       "       [ 2.65718474],\n",
       "       [ 5.28796715],\n",
       "       [ 6.13393333],\n",
       "       [ 5.43611911],\n",
       "       [ 5.15796978],\n",
       "       [ 4.20938347],\n",
       "       [ 5.47306153],\n",
       "       [ 6.25333987],\n",
       "       [ 2.41199444],\n",
       "       [10.65264599],\n",
       "       [ 2.65092749],\n",
       "       [ 2.83624142],\n",
       "       [ 8.08378658],\n",
       "       [ 4.88250855],\n",
       "       [ 2.46432407],\n",
       "       [ 4.13874352],\n",
       "       [ 6.37838517],\n",
       "       [ 3.56219913],\n",
       "       [ 5.4665784 ],\n",
       "       [ 3.28286523],\n",
       "       [ 2.63463389],\n",
       "       [ 2.4850743 ],\n",
       "       [ 7.57307559],\n",
       "       [ 6.04269802],\n",
       "       [ 9.14526655],\n",
       "       [ 4.32766551],\n",
       "       [ 3.48600172],\n",
       "       [ 4.07222481],\n",
       "       [ 4.38943865],\n",
       "       [ 7.64090346],\n",
       "       [ 3.95330341],\n",
       "       [ 5.24005206],\n",
       "       [ 6.20970056],\n",
       "       [10.17869553],\n",
       "       [ 5.39987858],\n",
       "       [ 2.56994257],\n",
       "       [ 2.14659003],\n",
       "       [ 2.26936112],\n",
       "       [ 3.54324368],\n",
       "       [ 3.38681071],\n",
       "       [ 6.33436535],\n",
       "       [ 5.15691187],\n",
       "       [ 3.04442979],\n",
       "       [ 5.67563728],\n",
       "       [ 4.26305536],\n",
       "       [ 2.03508601],\n",
       "       [11.55181819],\n",
       "       [ 4.19748561],\n",
       "       [11.62612116],\n",
       "       [ 2.95378351],\n",
       "       [ 3.66223785],\n",
       "       [ 4.52896964],\n",
       "       [ 5.87521476],\n",
       "       [10.59502633],\n",
       "       [ 9.2124637 ],\n",
       "       [ 4.9640179 ],\n",
       "       [ 4.79470565],\n",
       "       [ 4.55089593],\n",
       "       [ 2.79895534],\n",
       "       [ 6.85278928],\n",
       "       [ 5.42156864],\n",
       "       [ 4.38900473],\n",
       "       [ 4.03914993],\n",
       "       [ 5.3962154 ],\n",
       "       [ 2.5960055 ],\n",
       "       [ 2.40607094],\n",
       "       [ 4.57928878],\n",
       "       [ 4.51528831],\n",
       "       [ 1.99943732],\n",
       "       [ 1.90931646],\n",
       "       [ 3.97612108],\n",
       "       [ 7.81326496],\n",
       "       [ 2.70873822],\n",
       "       [ 7.05905445],\n",
       "       [ 4.35116516],\n",
       "       [ 9.16936405],\n",
       "       [ 5.37331894],\n",
       "       [ 4.06079013],\n",
       "       [ 4.17940667],\n",
       "       [ 5.17032672],\n",
       "       [ 2.16287477],\n",
       "       [ 1.95984414],\n",
       "       [ 9.95042636],\n",
       "       [ 5.44880489],\n",
       "       [ 2.93482783],\n",
       "       [ 6.02920321],\n",
       "       [ 3.05861231],\n",
       "       [ 6.43979314],\n",
       "       [ 4.13481732],\n",
       "       [ 2.74475489],\n",
       "       [ 5.15773877],\n",
       "       [ 4.42620665],\n",
       "       [ 8.47629507],\n",
       "       [ 5.97791277],\n",
       "       [ 1.92138456],\n",
       "       [ 8.98028093],\n",
       "       [ 3.15165949],\n",
       "       [ 3.28124736],\n",
       "       [ 8.32056223],\n",
       "       [ 8.03587404],\n",
       "       [ 6.16222401],\n",
       "       [ 3.63891258],\n",
       "       [12.26518307],\n",
       "       [ 4.42746758],\n",
       "       [ 1.85774718],\n",
       "       [10.20325336],\n",
       "       [ 4.9227502 ],\n",
       "       [ 3.75290123],\n",
       "       [ 2.62554741],\n",
       "       [ 4.52760084],\n",
       "       [ 2.12055132],\n",
       "       [12.07613334],\n",
       "       [ 3.93825714],\n",
       "       [ 2.81224094],\n",
       "       [ 5.96286512],\n",
       "       [ 2.9074359 ],\n",
       "       [ 6.88895963],\n",
       "       [ 2.35395396],\n",
       "       [ 3.53140827],\n",
       "       [ 4.36590106],\n",
       "       [ 2.61921116],\n",
       "       [ 3.46622719],\n",
       "       [ 2.62351301],\n",
       "       [ 5.22619431],\n",
       "       [ 6.32177414],\n",
       "       [ 4.65020372],\n",
       "       [ 3.56953056],\n",
       "       [ 7.91718705],\n",
       "       [ 7.14503718],\n",
       "       [10.26516139],\n",
       "       [ 2.25898584],\n",
       "       [ 4.85740682],\n",
       "       [ 5.87301519],\n",
       "       [ 2.38977447],\n",
       "       [ 3.69164822],\n",
       "       [ 3.98774854],\n",
       "       [ 6.00923657],\n",
       "       [11.37354148],\n",
       "       [ 2.43196186],\n",
       "       [ 2.35009168],\n",
       "       [ 6.13271791],\n",
       "       [ 2.65294836],\n",
       "       [ 5.46838065],\n",
       "       [12.30069351],\n",
       "       [ 2.77473294],\n",
       "       [ 5.04611069],\n",
       "       [ 2.82563656],\n",
       "       [12.05510538],\n",
       "       [ 6.48598927],\n",
       "       [ 5.03752264],\n",
       "       [ 4.82272778],\n",
       "       [ 2.0489794 ],\n",
       "       [ 6.49518394],\n",
       "       [ 3.62040366],\n",
       "       [ 1.86437546],\n",
       "       [ 2.55797383],\n",
       "       [ 5.6704183 ],\n",
       "       [ 6.395264  ],\n",
       "       [ 2.18488712],\n",
       "       [ 2.6035346 ],\n",
       "       [ 8.45703394],\n",
       "       [ 6.7140111 ],\n",
       "       [ 9.61828181],\n",
       "       [ 1.78082112],\n",
       "       [ 4.91283274],\n",
       "       [ 8.65743166],\n",
       "       [ 2.40041609],\n",
       "       [ 6.79014236],\n",
       "       [ 5.27381946],\n",
       "       [ 5.02126433],\n",
       "       [ 2.94848444],\n",
       "       [ 6.49874036],\n",
       "       [ 9.49973215],\n",
       "       [ 4.28570899],\n",
       "       [ 2.55639876],\n",
       "       [ 3.59241592],\n",
       "       [ 2.86166237],\n",
       "       [ 5.06313518],\n",
       "       [ 9.66596502],\n",
       "       [ 3.63615322],\n",
       "       [11.07163049],\n",
       "       [ 4.02845678],\n",
       "       [ 2.45153822],\n",
       "       [ 2.32615507],\n",
       "       [ 2.20582845],\n",
       "       [ 3.7498775 ]])"
      ]
     },
     "execution_count": 58,
     "metadata": {},
     "output_type": "execute_result"
    }
   ],
   "source": [
    "y"
   ]
  },
  {
   "cell_type": "code",
   "execution_count": null,
   "id": "e09b4edf",
   "metadata": {},
   "outputs": [],
   "source": []
  }
 ],
 "metadata": {
  "kernelspec": {
   "display_name": "Python 3",
   "language": "python",
   "name": "python3"
  },
  "language_info": {
   "codemirror_mode": {
    "name": "ipython",
    "version": 3
   },
   "file_extension": ".py",
   "mimetype": "text/x-python",
   "name": "python",
   "nbconvert_exporter": "python",
   "pygments_lexer": "ipython3",
   "version": "3.8.8"
  }
 },
 "nbformat": 4,
 "nbformat_minor": 5
}
