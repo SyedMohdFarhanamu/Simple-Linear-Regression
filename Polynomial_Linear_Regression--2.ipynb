{
 "cells": [
  {
   "cell_type": "code",
   "execution_count": 1,
   "id": "1828bfd0",
   "metadata": {},
   "outputs": [],
   "source": [
    "import numpy as np\n",
    "import pandas as pd\n",
    "import seaborn as sns\n",
    "import matplotlib.pyplot as plt\n",
    "%matplotlib inline"
   ]
  },
  {
   "cell_type": "code",
   "execution_count": 4,
   "id": "a0bffaa7",
   "metadata": {},
   "outputs": [],
   "source": [
    "X = 6 * np.random.rand(200, 1) - 3\n",
    "Y = 0.8 * X**2 + 0.9 * X + 2 + np.random.randn(200, 1)"
   ]
  },
  {
   "cell_type": "code",
   "execution_count": 25,
   "id": "01b9793c",
   "metadata": {},
   "outputs": [
    {
     "data": {
      "text/plain": [
       "array([[ 7.8245299 ],\n",
       "       [ 2.81550337],\n",
       "       [ 3.10002236],\n",
       "       [ 2.09542646],\n",
       "       [ 2.91943774],\n",
       "       [ 2.79530289],\n",
       "       [ 7.13617381],\n",
       "       [ 7.76938046],\n",
       "       [ 5.71747886],\n",
       "       [ 3.88886842],\n",
       "       [ 9.37685714],\n",
       "       [ 0.93078948],\n",
       "       [ 2.3431893 ],\n",
       "       [ 5.57474504],\n",
       "       [ 3.46793109],\n",
       "       [ 9.91905405],\n",
       "       [ 0.18207409],\n",
       "       [ 2.22423959],\n",
       "       [ 8.89501208],\n",
       "       [ 5.58876215],\n",
       "       [10.23161518],\n",
       "       [ 1.8846136 ],\n",
       "       [ 4.45129519],\n",
       "       [ 7.79729589],\n",
       "       [ 3.76208855],\n",
       "       [ 4.07741843],\n",
       "       [ 1.62891965],\n",
       "       [ 4.77700436],\n",
       "       [ 2.36435146],\n",
       "       [ 3.71254456],\n",
       "       [10.23619275],\n",
       "       [ 4.6615658 ],\n",
       "       [ 3.32345794],\n",
       "       [ 4.06036228],\n",
       "       [ 3.85453295],\n",
       "       [ 3.17078132],\n",
       "       [ 3.1150559 ],\n",
       "       [ 3.89196099],\n",
       "       [ 2.71956501],\n",
       "       [ 2.54137206],\n",
       "       [ 5.57513095],\n",
       "       [ 4.74657278],\n",
       "       [ 0.80648382],\n",
       "       [ 1.16983946],\n",
       "       [ 5.55465789],\n",
       "       [ 4.85716792],\n",
       "       [ 7.08133724],\n",
       "       [ 3.6766737 ],\n",
       "       [ 4.00771877],\n",
       "       [ 2.60090768],\n",
       "       [ 4.13141095],\n",
       "       [ 3.41548993],\n",
       "       [ 0.53926811],\n",
       "       [-0.44073019],\n",
       "       [12.22667908],\n",
       "       [ 4.61105036],\n",
       "       [ 4.92401788],\n",
       "       [ 1.85810287],\n",
       "       [ 3.4402871 ],\n",
       "       [ 2.71649684],\n",
       "       [ 0.55199813],\n",
       "       [ 4.19328452],\n",
       "       [ 2.07186891],\n",
       "       [ 0.46726012],\n",
       "       [ 1.58879615],\n",
       "       [ 8.89940826],\n",
       "       [ 4.24419774],\n",
       "       [ 1.7040023 ],\n",
       "       [ 2.92017915],\n",
       "       [ 2.81386648],\n",
       "       [ 3.14428037],\n",
       "       [ 2.34502638],\n",
       "       [ 1.07144122],\n",
       "       [ 2.97618407],\n",
       "       [ 4.91048941],\n",
       "       [ 2.51092768],\n",
       "       [ 2.66254794],\n",
       "       [ 9.07094286],\n",
       "       [ 4.17301909],\n",
       "       [ 2.40707165],\n",
       "       [ 3.19754277],\n",
       "       [ 1.95182285],\n",
       "       [ 4.40458864],\n",
       "       [ 2.29651923],\n",
       "       [ 4.97555129],\n",
       "       [ 5.58053047],\n",
       "       [ 3.94834783],\n",
       "       [ 1.99263519],\n",
       "       [ 7.71432482],\n",
       "       [ 3.05624631],\n",
       "       [-0.56434369],\n",
       "       [ 2.04173269],\n",
       "       [ 3.90574525],\n",
       "       [11.88543932],\n",
       "       [ 5.01460041],\n",
       "       [ 2.5020146 ],\n",
       "       [ 1.68613499],\n",
       "       [ 5.37235614],\n",
       "       [ 5.35861056],\n",
       "       [ 4.15571621],\n",
       "       [ 1.58870851],\n",
       "       [ 9.10119322],\n",
       "       [ 3.04055736],\n",
       "       [ 4.23518598],\n",
       "       [ 7.79035194],\n",
       "       [ 7.29696567],\n",
       "       [ 6.69872138],\n",
       "       [ 2.3348831 ],\n",
       "       [ 7.63500599],\n",
       "       [ 8.19126194],\n",
       "       [ 1.64725562],\n",
       "       [ 2.44904654],\n",
       "       [ 5.48449042],\n",
       "       [ 2.03825936],\n",
       "       [ 2.77159051],\n",
       "       [ 2.6630779 ],\n",
       "       [ 5.8089086 ],\n",
       "       [ 7.64591864],\n",
       "       [10.88327722],\n",
       "       [ 2.34519168],\n",
       "       [ 1.28445853],\n",
       "       [ 3.04095867],\n",
       "       [ 5.90721038],\n",
       "       [ 2.24237312],\n",
       "       [ 5.84292759],\n",
       "       [ 3.95696184],\n",
       "       [10.01536891],\n",
       "       [ 5.3925405 ],\n",
       "       [ 4.95699121],\n",
       "       [ 0.54828711],\n",
       "       [ 2.47490447],\n",
       "       [ 1.47284127],\n",
       "       [ 2.63805852],\n",
       "       [ 8.51689749],\n",
       "       [ 8.55919742],\n",
       "       [ 8.65221233],\n",
       "       [ 5.2602377 ],\n",
       "       [ 3.89418167],\n",
       "       [ 1.66090078],\n",
       "       [ 3.82355624],\n",
       "       [ 2.0672001 ],\n",
       "       [ 1.13110373],\n",
       "       [ 4.45716149],\n",
       "       [ 1.86945862],\n",
       "       [ 2.98283783],\n",
       "       [ 6.07499284],\n",
       "       [ 5.58017247],\n",
       "       [ 4.15993615],\n",
       "       [12.24844349],\n",
       "       [ 8.29406705],\n",
       "       [ 7.35655538],\n",
       "       [ 3.30653677],\n",
       "       [11.5614063 ],\n",
       "       [ 4.54604205],\n",
       "       [ 0.61659767],\n",
       "       [ 1.87987416],\n",
       "       [ 1.29437844],\n",
       "       [ 5.96351902],\n",
       "       [ 1.08718704],\n",
       "       [ 4.20295746],\n",
       "       [11.32831202],\n",
       "       [ 2.65904371],\n",
       "       [ 5.40432412],\n",
       "       [ 0.38940843],\n",
       "       [ 3.43341113],\n",
       "       [ 4.85209075],\n",
       "       [ 3.03633972],\n",
       "       [ 8.71826739],\n",
       "       [ 3.4360115 ],\n",
       "       [ 7.7365903 ],\n",
       "       [ 2.58980213],\n",
       "       [ 6.60870039],\n",
       "       [ 2.80084011],\n",
       "       [ 4.11098084],\n",
       "       [ 4.05299155],\n",
       "       [ 3.96742379],\n",
       "       [ 2.8860442 ],\n",
       "       [ 2.58112288],\n",
       "       [ 2.47131076],\n",
       "       [ 3.28040438],\n",
       "       [ 8.8004108 ],\n",
       "       [ 2.3437085 ],\n",
       "       [ 2.97461535],\n",
       "       [-0.19865279],\n",
       "       [ 3.60426285],\n",
       "       [12.32096135],\n",
       "       [ 4.08178159],\n",
       "       [ 5.64549275],\n",
       "       [ 1.78919564],\n",
       "       [11.05164847],\n",
       "       [ 1.37217274],\n",
       "       [ 3.37496257],\n",
       "       [ 4.69536769],\n",
       "       [ 2.18891607],\n",
       "       [ 2.4434801 ],\n",
       "       [ 3.24031921],\n",
       "       [ 6.1366985 ],\n",
       "       [ 7.32369542],\n",
       "       [ 2.49289309],\n",
       "       [ 1.52093993]])"
      ]
     },
     "execution_count": 25,
     "metadata": {},
     "output_type": "execute_result"
    }
   ],
   "source": [
    "Y"
   ]
  },
  {
   "cell_type": "code",
   "execution_count": 5,
   "id": "ad751fb3",
   "metadata": {},
   "outputs": [
    {
     "data": {
      "text/plain": [
       "(200, 1)"
      ]
     },
     "execution_count": 5,
     "metadata": {},
     "output_type": "execute_result"
    }
   ],
   "source": [
    "X.shape"
   ]
  },
  {
   "cell_type": "code",
   "execution_count": 6,
   "id": "a6ce9c1b",
   "metadata": {},
   "outputs": [
    {
     "data": {
      "text/plain": [
       "(200, 1)"
      ]
     },
     "execution_count": 6,
     "metadata": {},
     "output_type": "execute_result"
    }
   ],
   "source": [
    "Y.shape"
   ]
  },
  {
   "cell_type": "code",
   "execution_count": 9,
   "id": "cb99ff8b",
   "metadata": {},
   "outputs": [
    {
     "data": {
      "text/plain": [
       "-0.050126060305262836"
      ]
     },
     "execution_count": 9,
     "metadata": {},
     "output_type": "execute_result"
    }
   ],
   "source": [
    "X.mean()"
   ]
  },
  {
   "cell_type": "code",
   "execution_count": 10,
   "id": "21322c55",
   "metadata": {},
   "outputs": [
    {
     "data": {
      "text/plain": [
       "1.7395879827978027"
      ]
     },
     "execution_count": 10,
     "metadata": {},
     "output_type": "execute_result"
    }
   ],
   "source": [
    "X.std()"
   ]
  },
  {
   "cell_type": "code",
   "execution_count": 13,
   "id": "2a6fef44",
   "metadata": {},
   "outputs": [
    {
     "data": {
      "text/plain": [
       "0.02283359919276373"
      ]
     },
     "execution_count": 13,
     "metadata": {},
     "output_type": "execute_result"
    }
   ],
   "source": [
    "np.median(X)"
   ]
  },
  {
   "cell_type": "code",
   "execution_count": 17,
   "id": "6e7e9e08",
   "metadata": {},
   "outputs": [
    {
     "name": "stderr",
     "output_type": "stream",
     "text": [
      "C:\\Users\\dell\\anaconda3\\lib\\site-packages\\seaborn\\distributions.py:2557: FutureWarning: `distplot` is a deprecated function and will be removed in a future version. Please adapt your code to use either `displot` (a figure-level function with similar flexibility) or `histplot` (an axes-level function for histograms).\n",
      "  warnings.warn(msg, FutureWarning)\n"
     ]
    },
    {
     "data": {
      "image/png": "[encoded data removed]",
      "text/plain": [
       "<Figure size 432x288 with 1 Axes>"
      ]
     },
     "metadata": {
      "needs_background": "light"
     },
     "output_type": "display_data"
    }
   ],
   "source": [
    "sns.distplot(X,bins=10,kde=True)\n",
    "plt.show()\n"
   ]
  },
  {
   "cell_type": "code",
   "execution_count": 18,
   "id": "31c71c37",
   "metadata": {},
   "outputs": [
    {
     "data": {
      "image/png": "[encoded data removed]",
      "text/plain": [
       "<Figure size 432x288 with 1 Axes>"
      ]
     },
     "metadata": {
      "needs_background": "light"
     },
     "output_type": "display_data"
    }
   ],
   "source": [
    "plt.plot(X, Y,'b.')\n",
    "plt.xlabel(\"X\")\n",
    "plt.ylabel(\"y\")\n",
    "plt.show()\n",
    "\n"
   ]
  },
  {
   "cell_type": "code",
   "execution_count": 20,
   "id": "11b13e4d",
   "metadata": {},
   "outputs": [],
   "source": [
    "from sklearn.preprocessing import PolynomialFeatures\n",
    "polynomial_converter = PolynomialFeatures(degree=2,include_bias=True)\n",
    "X_poly = polynomial_converter.fit_transform(X)"
   ]
  },
  {
   "cell_type": "code",
   "execution_count": 21,
   "id": "23cc93e4",
   "metadata": {},
   "outputs": [
    {
     "data": {
      "text/plain": [
       "(200, 3)"
      ]
     },
     "execution_count": 21,
     "metadata": {},
     "output_type": "execute_result"
    }
   ],
   "source": [
    "X_poly.shape"
   ]
  },
  {
   "cell_type": "code",
   "execution_count": 22,
   "id": "a71e3892",
   "metadata": {},
   "outputs": [
    {
     "data": {
      "text/plain": [
       "array([[ 1.00000000e+00,  2.42248949e+00,  5.86845532e+00],\n",
       "       [ 1.00000000e+00,  8.88389606e-02,  7.89236092e-03],\n",
       "       [ 1.00000000e+00, -2.21419993e+00,  4.90268131e+00],\n",
       "       [ 1.00000000e+00, -1.02139264e+00,  1.04324292e+00],\n",
       "       [ 1.00000000e+00, -1.34933045e+00,  1.82069266e+00],\n",
       "       [ 1.00000000e+00, -1.69164860e+00,  2.86167500e+00],\n",
       "       [ 1.00000000e+00,  2.44557810e+00,  5.98085224e+00],\n",
       "       [ 1.00000000e+00,  2.22682386e+00,  4.95874448e+00],\n",
       "       [ 1.00000000e+00, -2.89989486e+00,  8.40939022e+00],\n",
       "       [ 1.00000000e+00,  1.01607395e+00,  1.03240627e+00],\n",
       "       [ 1.00000000e+00,  2.54821585e+00,  6.49340403e+00],\n",
       "       [ 1.00000000e+00, -9.68521513e-01,  9.38033922e-01],\n",
       "       [ 1.00000000e+00, -3.05596597e-01,  9.33892800e-02],\n",
       "       [ 1.00000000e+00,  1.50851544e+00,  2.27561883e+00],\n",
       "       [ 1.00000000e+00,  9.93992673e-01,  9.88021435e-01],\n",
       "       [ 1.00000000e+00,  2.75507923e+00,  7.59046158e+00],\n",
       "       [ 1.00000000e+00, -1.06067860e+00,  1.12503910e+00],\n",
       "       [ 1.00000000e+00, -2.00163738e+00,  4.00655219e+00],\n",
       "       [ 1.00000000e+00,  2.42670290e+00,  5.88888697e+00],\n",
       "       [ 1.00000000e+00,  1.10523232e+00,  1.22153849e+00],\n",
       "       [ 1.00000000e+00,  2.36445782e+00,  5.59066076e+00],\n",
       "       [ 1.00000000e+00,  4.43110975e-01,  1.96347336e-01],\n",
       "       [ 1.00000000e+00,  1.32234396e+00,  1.74859356e+00],\n",
       "       [ 1.00000000e+00, -2.84697209e+00,  8.10525011e+00],\n",
       "       [ 1.00000000e+00,  8.46279415e-01,  7.16188849e-01],\n",
       "       [ 1.00000000e+00,  3.35620846e-01,  1.12641352e-01],\n",
       "       [ 1.00000000e+00, -4.84706387e-01,  2.34940282e-01],\n",
       "       [ 1.00000000e+00, -2.20329023e+00,  4.85448783e+00],\n",
       "       [ 1.00000000e+00, -1.49906878e+00,  2.24720720e+00],\n",
       "       [ 1.00000000e+00, -4.72440007e-01,  2.23199560e-01],\n",
       "       [ 1.00000000e+00,  2.85376838e+00,  8.14399400e+00],\n",
       "       [ 1.00000000e+00,  1.47680657e+00,  2.18095765e+00],\n",
       "       [ 1.00000000e+00, -7.99689358e-01,  6.39503070e-01],\n",
       "       [ 1.00000000e+00, -2.50250712e+00,  6.26254186e+00],\n",
       "       [ 1.00000000e+00,  1.04901279e+00,  1.10042783e+00],\n",
       "       [ 1.00000000e+00,  3.12182559e-01,  9.74579501e-02],\n",
       "       [ 1.00000000e+00,  8.91053639e-01,  7.93976588e-01],\n",
       "       [ 1.00000000e+00,  1.27519291e+00,  1.62611696e+00],\n",
       "       [ 1.00000000e+00, -1.73152058e+00,  2.99816353e+00],\n",
       "       [ 1.00000000e+00,  9.59422244e-01,  9.20491042e-01],\n",
       "       [ 1.00000000e+00,  2.03959773e+00,  4.15995889e+00],\n",
       "       [ 1.00000000e+00,  1.52045890e+00,  2.31179527e+00],\n",
       "       [ 1.00000000e+00, -3.40462019e-01,  1.15914386e-01],\n",
       "       [ 1.00000000e+00,  1.20132490e-01,  1.44318152e-02],\n",
       "       [ 1.00000000e+00,  1.24591604e+00,  1.55230677e+00],\n",
       "       [ 1.00000000e+00,  8.65100616e-01,  7.48399075e-01],\n",
       "       [ 1.00000000e+00, -2.81950361e+00,  7.94960063e+00],\n",
       "       [ 1.00000000e+00,  9.34731760e-01,  8.73723464e-01],\n",
       "       [ 1.00000000e+00, -1.76310790e+00,  3.10854947e+00],\n",
       "       [ 1.00000000e+00, -1.43628309e+00,  2.06290913e+00],\n",
       "       [ 1.00000000e+00, -2.16553132e+00,  4.68952588e+00],\n",
       "       [ 1.00000000e+00, -2.09223719e+00,  4.37745646e+00],\n",
       "       [ 1.00000000e+00, -4.77076137e-01,  2.27601641e-01],\n",
       "       [ 1.00000000e+00, -4.96462687e-01,  2.46475200e-01],\n",
       "       [ 1.00000000e+00,  2.92554007e+00,  8.55878468e+00],\n",
       "       [ 1.00000000e+00,  1.35011209e+00,  1.82280266e+00],\n",
       "       [ 1.00000000e+00,  1.44735982e+00,  2.09485046e+00],\n",
       "       [ 1.00000000e+00, -3.05176335e-01,  9.31325956e-02],\n",
       "       [ 1.00000000e+00, -2.35823656e+00,  5.56127966e+00],\n",
       "       [ 1.00000000e+00, -1.21607081e+00,  1.47882821e+00],\n",
       "       [ 1.00000000e+00, -8.38688936e-01,  7.03399132e-01],\n",
       "       [ 1.00000000e+00, -2.20456427e+00,  4.86010361e+00],\n",
       "       [ 1.00000000e+00,  2.17744308e-01,  4.74125837e-02],\n",
       "       [ 1.00000000e+00, -1.09196340e+00,  1.19238407e+00],\n",
       "       [ 1.00000000e+00, -1.60456554e-01,  2.57463057e-02],\n",
       "       [ 1.00000000e+00,  2.42780727e+00,  5.89424815e+00],\n",
       "       [ 1.00000000e+00, -2.94832204e+00,  8.69260283e+00],\n",
       "       [ 1.00000000e+00,  3.12919798e-01,  9.79188001e-02],\n",
       "       [ 1.00000000e+00, -1.09458344e-01,  1.19811291e-02],\n",
       "       [ 1.00000000e+00, -1.72052175e+00,  2.96019510e+00],\n",
       "       [ 1.00000000e+00, -2.04123029e+00,  4.16662108e+00],\n",
       "       [ 1.00000000e+00, -1.37324277e+00,  1.88579572e+00],\n",
       "       [ 1.00000000e+00, -2.62030882e-01,  6.86601829e-02],\n",
       "       [ 1.00000000e+00,  1.04241277e+00,  1.08662438e+00],\n",
       "       [ 1.00000000e+00, -2.26359451e+00,  5.12386012e+00],\n",
       "       [ 1.00000000e+00,  7.27758363e-01,  5.29632235e-01],\n",
       "       [ 1.00000000e+00, -1.37277434e+00,  1.88450939e+00],\n",
       "       [ 1.00000000e+00,  2.96119203e+00,  8.76865824e+00],\n",
       "       [ 1.00000000e+00, -7.09189271e-01,  5.02949422e-01],\n",
       "       [ 1.00000000e+00, -1.32388922e+00,  1.75268266e+00],\n",
       "       [ 1.00000000e+00, -1.08210116e+00,  1.17094291e+00],\n",
       "       [ 1.00000000e+00, -2.97108716e-01,  8.82735894e-02],\n",
       "       [ 1.00000000e+00,  1.67249619e+00,  2.79724350e+00],\n",
       "       [ 1.00000000e+00,  7.27904034e-01,  5.29844283e-01],\n",
       "       [ 1.00000000e+00, -2.70698295e+00,  7.32775670e+00],\n",
       "       [ 1.00000000e+00, -2.91896608e+00,  8.52036300e+00],\n",
       "       [ 1.00000000e+00, -9.60273063e-01,  9.22124356e-01],\n",
       "       [ 1.00000000e+00,  9.55775711e-02,  9.13507210e-03],\n",
       "       [ 1.00000000e+00,  2.29940704e+00,  5.28727275e+00],\n",
       "       [ 1.00000000e+00, -1.64314590e+00,  2.69992845e+00],\n",
       "       [ 1.00000000e+00, -1.27749131e+00,  1.63198405e+00],\n",
       "       [ 1.00000000e+00, -1.12945864e+00,  1.27567681e+00],\n",
       "       [ 1.00000000e+00,  8.91489248e-01,  7.94753080e-01],\n",
       "       [ 1.00000000e+00,  2.91824097e+00,  8.51613036e+00],\n",
       "       [ 1.00000000e+00, -2.82052273e+00,  7.95534845e+00],\n",
       "       [ 1.00000000e+00,  2.66749995e-01,  7.11555597e-02],\n",
       "       [ 1.00000000e+00, -9.02977512e-01,  8.15368388e-01],\n",
       "       [ 1.00000000e+00, -2.16438330e+00,  4.68455508e+00],\n",
       "       [ 1.00000000e+00, -2.89390630e+00,  8.37469367e+00],\n",
       "       [ 1.00000000e+00, -2.79087251e+00,  7.78896939e+00],\n",
       "       [ 1.00000000e+00, -1.87102980e+00,  3.50075251e+00],\n",
       "       [ 1.00000000e+00,  2.22936019e+00,  4.97004686e+00],\n",
       "       [ 1.00000000e+00,  1.50611010e-01,  2.26836765e-02],\n",
       "       [ 1.00000000e+00, -1.91053272e+00,  3.65013528e+00],\n",
       "       [ 1.00000000e+00,  2.35397649e+00,  5.54120531e+00],\n",
       "       [ 1.00000000e+00,  1.73758595e+00,  3.01920494e+00],\n",
       "       [ 1.00000000e+00,  1.70392119e+00,  2.90334741e+00],\n",
       "       [ 1.00000000e+00,  2.81411300e-02,  7.91923198e-04],\n",
       "       [ 1.00000000e+00,  2.55868734e+00,  6.54688092e+00],\n",
       "       [ 1.00000000e+00,  2.52914604e+00,  6.39657968e+00],\n",
       "       [ 1.00000000e+00,  1.92198438e-01,  3.69402397e-02],\n",
       "       [ 1.00000000e+00,  6.55984956e-01,  4.30316262e-01],\n",
       "       [ 1.00000000e+00, -2.94770010e+00,  8.68893589e+00],\n",
       "       [ 1.00000000e+00,  1.75260684e-02,  3.07163073e-04],\n",
       "       [ 1.00000000e+00,  1.11985783e+00,  1.25408156e+00],\n",
       "       [ 1.00000000e+00, -2.26664485e+00,  5.13767886e+00],\n",
       "       [ 1.00000000e+00,  1.98040018e+00,  3.92198488e+00],\n",
       "       [ 1.00000000e+00, -2.87797815e+00,  8.28275826e+00],\n",
       "       [ 1.00000000e+00,  2.69354584e+00,  7.25518922e+00],\n",
       "       [ 1.00000000e+00, -3.75479870e-01,  1.40985133e-01],\n",
       "       [ 1.00000000e+00, -1.11267595e+00,  1.23804776e+00],\n",
       "       [ 1.00000000e+00, -1.99369705e+00,  3.97482794e+00],\n",
       "       [ 1.00000000e+00, -2.80399556e+00,  7.86239110e+00],\n",
       "       [ 1.00000000e+00, -1.29072677e+00,  1.66597559e+00],\n",
       "       [ 1.00000000e+00,  1.70946396e+00,  2.92226702e+00],\n",
       "       [ 1.00000000e+00, -2.04154466e+00,  4.16790461e+00],\n",
       "       [ 1.00000000e+00,  2.66524870e+00,  7.10355064e+00],\n",
       "       [ 1.00000000e+00,  1.25981933e+00,  1.58714475e+00],\n",
       "       [ 1.00000000e+00,  1.13649237e+00,  1.29161490e+00],\n",
       "       [ 1.00000000e+00, -4.70886206e-01,  2.21733819e-01],\n",
       "       [ 1.00000000e+00,  2.04520535e-01,  4.18286491e-02],\n",
       "       [ 1.00000000e+00, -2.31569604e-01,  5.36244815e-02],\n",
       "       [ 1.00000000e+00,  9.47013364e-02,  8.96834311e-03],\n",
       "       [ 1.00000000e+00,  2.15896212e+00,  4.66111743e+00],\n",
       "       [ 1.00000000e+00,  2.30675834e+00,  5.32113406e+00],\n",
       "       [ 1.00000000e+00,  2.37792484e+00,  5.65452656e+00],\n",
       "       [ 1.00000000e+00, -2.44959982e+00,  6.00053928e+00],\n",
       "       [ 1.00000000e+00, -1.63792644e+00,  2.68280304e+00],\n",
       "       [ 1.00000000e+00, -1.49318235e+00,  2.22959354e+00],\n",
       "       [ 1.00000000e+00,  1.30048246e+00,  1.69125462e+00],\n",
       "       [ 1.00000000e+00, -1.38610041e+00,  1.92127433e+00],\n",
       "       [ 1.00000000e+00, -1.69130048e+00,  2.86049731e+00],\n",
       "       [ 1.00000000e+00,  1.39810304e+00,  1.95469211e+00],\n",
       "       [ 1.00000000e+00,  4.73037210e-01,  2.23764202e-01],\n",
       "       [ 1.00000000e+00,  6.27795500e-01,  3.94127190e-01],\n",
       "       [ 1.00000000e+00, -2.45173711e+00,  6.01101488e+00],\n",
       "       [ 1.00000000e+00, -2.53722541e+00,  6.43751276e+00],\n",
       "       [ 1.00000000e+00,  4.45779516e-01,  1.98719377e-01],\n",
       "       [ 1.00000000e+00,  2.83500742e+00,  8.03726709e+00],\n",
       "       [ 1.00000000e+00,  2.34306045e+00,  5.48993228e+00],\n",
       "       [ 1.00000000e+00,  2.19774851e+00,  4.83009852e+00],\n",
       "       [ 1.00000000e+00, -9.13617223e-02,  8.34696431e-03],\n",
       "       [ 1.00000000e+00,  2.78355305e+00,  7.74816756e+00],\n",
       "       [ 1.00000000e+00, -2.77201220e+00,  7.68405161e+00],\n",
       "       [ 1.00000000e+00,  5.19143607e-01,  2.69510084e-01],\n",
       "       [ 1.00000000e+00, -1.95827122e+00,  3.83482615e+00],\n",
       "       [ 1.00000000e+00, -1.75225544e+00,  3.07039914e+00],\n",
       "       [ 1.00000000e+00, -2.86241558e+00,  8.19342293e+00],\n",
       "       [ 1.00000000e+00,  1.47156080e-01,  2.16549118e-02],\n",
       "       [ 1.00000000e+00,  1.26431717e+00,  1.59849792e+00],\n",
       "       [ 1.00000000e+00,  2.97816256e+00,  8.86945226e+00],\n",
       "       [ 1.00000000e+00, -1.24891462e-01,  1.55978774e-02],\n",
       "       [ 1.00000000e+00, -2.70944920e+00,  7.34111498e+00],\n",
       "       [ 1.00000000e+00, -8.48313132e-01,  7.19635169e-01],\n",
       "       [ 1.00000000e+00, -2.04193973e+00,  4.16951784e+00],\n",
       "       [ 1.00000000e+00,  1.56370867e+00,  2.44518480e+00],\n",
       "       [ 1.00000000e+00, -2.14004211e-01,  4.57978025e-02],\n",
       "       [ 1.00000000e+00,  2.45094532e+00,  6.00713297e+00],\n",
       "       [ 1.00000000e+00,  1.86227100e-01,  3.46805328e-02],\n",
       "       [ 1.00000000e+00,  2.52677381e+00,  6.38458588e+00],\n",
       "       [ 1.00000000e+00, -1.23928083e-01,  1.53581699e-02],\n",
       "       [ 1.00000000e+00,  1.82152769e+00,  3.31796312e+00],\n",
       "       [ 1.00000000e+00,  1.49526032e+00,  2.23580341e+00],\n",
       "       [ 1.00000000e+00,  1.43066753e+00,  2.04680959e+00],\n",
       "       [ 1.00000000e+00, -2.48107345e+00,  6.15572548e+00],\n",
       "       [ 1.00000000e+00, -2.02286226e+00,  4.09197173e+00],\n",
       "       [ 1.00000000e+00, -2.22809214e-02,  4.96439457e-04],\n",
       "       [ 1.00000000e+00, -1.73139107e+00,  2.99771505e+00],\n",
       "       [ 1.00000000e+00, -1.54823777e+00,  2.39704020e+00],\n",
       "       [ 1.00000000e+00,  9.09104175e-01,  8.26470401e-01],\n",
       "       [ 1.00000000e+00,  2.37786173e+00,  5.65422641e+00],\n",
       "       [ 1.00000000e+00,  2.60954142e-01,  6.80970644e-02],\n",
       "       [ 1.00000000e+00,  8.25980669e-01,  6.82244065e-01],\n",
       "       [ 1.00000000e+00, -3.21215292e-01,  1.03179264e-01],\n",
       "       [ 1.00000000e+00, -1.69891078e+00,  2.88629784e+00],\n",
       "       [ 1.00000000e+00,  2.96403082e+00,  8.78547869e+00],\n",
       "       [ 1.00000000e+00,  1.11652181e+00,  1.24662095e+00],\n",
       "       [ 1.00000000e+00, -2.40813186e+00,  5.79909906e+00],\n",
       "       [ 1.00000000e+00,  1.15097275e+00,  1.32473828e+00],\n",
       "       [ 1.00000000e+00,  2.86510542e+00,  8.20882907e+00],\n",
       "       [ 1.00000000e+00, -9.77736575e-01,  9.55968810e-01],\n",
       "       [ 1.00000000e+00,  7.06593663e-01,  4.99274604e-01],\n",
       "       [ 1.00000000e+00, -2.46879768e+00,  6.09496197e+00],\n",
       "       [ 1.00000000e+00,  2.02635928e-01,  4.10613192e-02],\n",
       "       [ 1.00000000e+00, -4.38143701e-02,  1.91969903e-03],\n",
       "       [ 1.00000000e+00, -1.71414179e+00,  2.93828208e+00],\n",
       "       [ 1.00000000e+00,  1.36110577e+00,  1.85260893e+00],\n",
       "       [ 1.00000000e+00,  1.59634323e+00,  2.54831169e+00],\n",
       "       [ 1.00000000e+00,  3.65714997e-01,  1.33747459e-01],\n",
       "       [ 1.00000000e+00, -1.74854373e+00,  3.05740516e+00]])"
      ]
     },
     "execution_count": 22,
     "metadata": {},
     "output_type": "execute_result"
    }
   ],
   "source": [
    "X_poly"
   ]
  },
  {
   "cell_type": "code",
   "execution_count": 23,
   "id": "75a4c74a",
   "metadata": {},
   "outputs": [],
   "source": [
    "from sklearn.model_selection import train_test_split\n",
    "X_train, X_test, Y_train, Y_test = train_test_split(X_poly,Y,test_size=0.3, random_state=12)"
   ]
  },
  {
   "cell_type": "code",
   "execution_count": 39,
   "id": "face16c6",
   "metadata": {},
   "outputs": [
    {
     "data": {
      "text/plain": [
       "array([[ 1.00000000e+00,  2.17744308e-01,  4.74125837e-02],\n",
       "       [ 1.00000000e+00,  2.44557810e+00,  5.98085224e+00],\n",
       "       [ 1.00000000e+00, -1.74854373e+00,  3.05740516e+00],\n",
       "       [ 1.00000000e+00,  1.70946396e+00,  2.92226702e+00],\n",
       "       [ 1.00000000e+00, -2.45173711e+00,  6.01101488e+00],\n",
       "       [ 1.00000000e+00,  9.59422244e-01,  9.20491042e-01],\n",
       "       [ 1.00000000e+00, -3.40462019e-01,  1.15914386e-01],\n",
       "       [ 1.00000000e+00, -1.27749131e+00,  1.63198405e+00],\n",
       "       [ 1.00000000e+00, -2.00163738e+00,  4.00655219e+00],\n",
       "       [ 1.00000000e+00, -2.16553132e+00,  4.68952588e+00],\n",
       "       [ 1.00000000e+00,  1.04901279e+00,  1.10042783e+00],\n",
       "       [ 1.00000000e+00, -2.94832204e+00,  8.69260283e+00],\n",
       "       [ 1.00000000e+00, -9.77736575e-01,  9.55968810e-01],\n",
       "       [ 1.00000000e+00,  1.27519291e+00,  1.62611696e+00],\n",
       "       [ 1.00000000e+00, -1.73152058e+00,  2.99816353e+00],\n",
       "       [ 1.00000000e+00, -9.60273063e-01,  9.22124356e-01],\n",
       "       [ 1.00000000e+00, -1.60456554e-01,  2.57463057e-02],\n",
       "       [ 1.00000000e+00, -1.38610041e+00,  1.92127433e+00],\n",
       "       [ 1.00000000e+00,  1.10523232e+00,  1.22153849e+00],\n",
       "       [ 1.00000000e+00,  1.82152769e+00,  3.31796312e+00],\n",
       "       [ 1.00000000e+00, -1.23928083e-01,  1.53581699e-02],\n",
       "       [ 1.00000000e+00, -2.97108716e-01,  8.82735894e-02],\n",
       "       [ 1.00000000e+00,  4.73037210e-01,  2.23764202e-01],\n",
       "       [ 1.00000000e+00,  2.66524870e+00,  7.10355064e+00],\n",
       "       [ 1.00000000e+00,  1.26431717e+00,  1.59849792e+00],\n",
       "       [ 1.00000000e+00, -2.40813186e+00,  5.79909906e+00],\n",
       "       [ 1.00000000e+00, -1.91053272e+00,  3.65013528e+00],\n",
       "       [ 1.00000000e+00, -7.09189271e-01,  5.02949422e-01],\n",
       "       [ 1.00000000e+00, -2.80399556e+00,  7.86239110e+00],\n",
       "       [ 1.00000000e+00, -1.75225544e+00,  3.07039914e+00],\n",
       "       [ 1.00000000e+00,  8.91489248e-01,  7.94753080e-01],\n",
       "       [ 1.00000000e+00, -4.84706387e-01,  2.34940282e-01],\n",
       "       [ 1.00000000e+00, -2.62030882e-01,  6.86601829e-02],\n",
       "       [ 1.00000000e+00,  7.27904034e-01,  5.29844283e-01],\n",
       "       [ 1.00000000e+00, -4.38143701e-02,  1.91969903e-03],\n",
       "       [ 1.00000000e+00,  2.54821585e+00,  6.49340403e+00],\n",
       "       [ 1.00000000e+00, -2.81950361e+00,  7.94960063e+00],\n",
       "       [ 1.00000000e+00,  8.91053639e-01,  7.93976588e-01],\n",
       "       [ 1.00000000e+00,  7.06593663e-01,  4.99274604e-01],\n",
       "       [ 1.00000000e+00,  2.85376838e+00,  8.14399400e+00],\n",
       "       [ 1.00000000e+00,  2.52677381e+00,  6.38458588e+00],\n",
       "       [ 1.00000000e+00, -1.37324277e+00,  1.88579572e+00],\n",
       "       [ 1.00000000e+00, -1.54823777e+00,  2.39704020e+00],\n",
       "       [ 1.00000000e+00, -2.77201220e+00,  7.68405161e+00],\n",
       "       [ 1.00000000e+00, -4.77076137e-01,  2.27601641e-01],\n",
       "       [ 1.00000000e+00, -1.63792644e+00,  2.68280304e+00],\n",
       "       [ 1.00000000e+00, -1.76310790e+00,  3.10854947e+00],\n",
       "       [ 1.00000000e+00,  1.11652181e+00,  1.24662095e+00],\n",
       "       [ 1.00000000e+00, -2.21419993e+00,  4.90268131e+00],\n",
       "       [ 1.00000000e+00, -1.49906878e+00,  2.24720720e+00],\n",
       "       [ 1.00000000e+00,  2.02635928e-01,  4.10613192e-02],\n",
       "       [ 1.00000000e+00,  4.45779516e-01,  1.98719377e-01],\n",
       "       [ 1.00000000e+00,  1.01607395e+00,  1.03240627e+00],\n",
       "       [ 1.00000000e+00,  1.70392119e+00,  2.90334741e+00],\n",
       "       [ 1.00000000e+00, -1.72052175e+00,  2.96019510e+00],\n",
       "       [ 1.00000000e+00, -2.46879768e+00,  6.09496197e+00],\n",
       "       [ 1.00000000e+00, -2.86241558e+00,  8.19342293e+00],\n",
       "       [ 1.00000000e+00, -2.02286226e+00,  4.09197173e+00],\n",
       "       [ 1.00000000e+00,  3.65714997e-01,  1.33747459e-01],\n",
       "       [ 1.00000000e+00, -2.16438330e+00,  4.68455508e+00],\n",
       "       [ 1.00000000e+00,  6.55984956e-01,  4.30316262e-01],\n",
       "       [ 1.00000000e+00,  1.50611010e-01,  2.26836765e-02],\n",
       "       [ 1.00000000e+00,  1.56370867e+00,  2.44518480e+00],\n",
       "       [ 1.00000000e+00,  2.92554007e+00,  8.55878468e+00],\n",
       "       [ 1.00000000e+00, -3.05176335e-01,  9.31325956e-02],\n",
       "       [ 1.00000000e+00,  9.55775711e-02,  9.13507210e-03],\n",
       "       [ 1.00000000e+00,  2.19774851e+00,  4.83009852e+00],\n",
       "       [ 1.00000000e+00,  3.12919798e-01,  9.79188001e-02],\n",
       "       [ 1.00000000e+00, -1.08210116e+00,  1.17094291e+00],\n",
       "       [ 1.00000000e+00, -2.94770010e+00,  8.68893589e+00],\n",
       "       [ 1.00000000e+00,  2.42248949e+00,  5.86845532e+00],\n",
       "       [ 1.00000000e+00,  2.83500742e+00,  8.03726709e+00],\n",
       "       [ 1.00000000e+00,  5.19143607e-01,  2.69510084e-01],\n",
       "       [ 1.00000000e+00, -1.73139107e+00,  2.99771505e+00],\n",
       "       [ 1.00000000e+00, -1.12945864e+00,  1.27567681e+00],\n",
       "       [ 1.00000000e+00,  1.11985783e+00,  1.25408156e+00],\n",
       "       [ 1.00000000e+00, -9.13617223e-02,  8.34696431e-03],\n",
       "       [ 1.00000000e+00,  1.98040018e+00,  3.92198488e+00],\n",
       "       [ 1.00000000e+00,  6.27795500e-01,  3.94127190e-01],\n",
       "       [ 1.00000000e+00,  2.42670290e+00,  5.88888697e+00],\n",
       "       [ 1.00000000e+00,  1.15097275e+00,  1.32473828e+00],\n",
       "       [ 1.00000000e+00,  1.20132490e-01,  1.44318152e-02],\n",
       "       [ 1.00000000e+00,  1.73758595e+00,  3.01920494e+00],\n",
       "       [ 1.00000000e+00,  2.36445782e+00,  5.59066076e+00],\n",
       "       [ 1.00000000e+00, -1.99369705e+00,  3.97482794e+00],\n",
       "       [ 1.00000000e+00, -2.79087251e+00,  7.78896939e+00],\n",
       "       [ 1.00000000e+00, -2.70698295e+00,  7.32775670e+00],\n",
       "       [ 1.00000000e+00, -1.21607081e+00,  1.47882821e+00],\n",
       "       [ 1.00000000e+00, -2.35823656e+00,  5.56127966e+00],\n",
       "       [ 1.00000000e+00,  1.36110577e+00,  1.85260893e+00],\n",
       "       [ 1.00000000e+00,  1.86227100e-01,  3.46805328e-02],\n",
       "       [ 1.00000000e+00, -2.04123029e+00,  4.16662108e+00],\n",
       "       [ 1.00000000e+00, -8.38688936e-01,  7.03399132e-01],\n",
       "       [ 1.00000000e+00,  2.81411300e-02,  7.91923198e-04],\n",
       "       [ 1.00000000e+00, -4.96462687e-01,  2.46475200e-01],\n",
       "       [ 1.00000000e+00, -1.09458344e-01,  1.19811291e-02],\n",
       "       [ 1.00000000e+00, -2.26664485e+00,  5.13767886e+00],\n",
       "       [ 1.00000000e+00,  1.24591604e+00,  1.55230677e+00],\n",
       "       [ 1.00000000e+00,  2.42780727e+00,  5.89424815e+00],\n",
       "       [ 1.00000000e+00, -1.34933045e+00,  1.82069266e+00],\n",
       "       [ 1.00000000e+00,  1.44735982e+00,  2.09485046e+00],\n",
       "       [ 1.00000000e+00,  3.35620846e-01,  1.12641352e-01],\n",
       "       [ 1.00000000e+00, -1.32388922e+00,  1.75268266e+00],\n",
       "       [ 1.00000000e+00, -2.20329023e+00,  4.85448783e+00],\n",
       "       [ 1.00000000e+00,  1.92198438e-01,  3.69402397e-02],\n",
       "       [ 1.00000000e+00,  2.97816256e+00,  8.86945226e+00],\n",
       "       [ 1.00000000e+00, -2.48107345e+00,  6.15572548e+00],\n",
       "       [ 1.00000000e+00,  1.04241277e+00,  1.08662438e+00],\n",
       "       [ 1.00000000e+00,  2.52914604e+00,  6.39657968e+00],\n",
       "       [ 1.00000000e+00, -1.29072677e+00,  1.66597559e+00],\n",
       "       [ 1.00000000e+00,  1.59634323e+00,  2.54831169e+00],\n",
       "       [ 1.00000000e+00, -2.53722541e+00,  6.43751276e+00],\n",
       "       [ 1.00000000e+00, -9.02977512e-01,  8.15368388e-01],\n",
       "       [ 1.00000000e+00, -3.75479870e-01,  1.40985133e-01],\n",
       "       [ 1.00000000e+00,  1.47156080e-01,  2.16549118e-02],\n",
       "       [ 1.00000000e+00, -1.24891462e-01,  1.55978774e-02],\n",
       "       [ 1.00000000e+00, -8.48313132e-01,  7.19635169e-01],\n",
       "       [ 1.00000000e+00, -1.87102980e+00,  3.50075251e+00],\n",
       "       [ 1.00000000e+00,  3.12182559e-01,  9.74579501e-02],\n",
       "       [ 1.00000000e+00, -1.64314590e+00,  2.69992845e+00],\n",
       "       [ 1.00000000e+00,  1.67249619e+00,  2.79724350e+00],\n",
       "       [ 1.00000000e+00,  1.50851544e+00,  2.27561883e+00],\n",
       "       [ 1.00000000e+00,  2.35397649e+00,  5.54120531e+00],\n",
       "       [ 1.00000000e+00, -2.87797815e+00,  8.28275826e+00],\n",
       "       [ 1.00000000e+00,  1.13649237e+00,  1.29161490e+00],\n",
       "       [ 1.00000000e+00, -2.26359451e+00,  5.12386012e+00],\n",
       "       [ 1.00000000e+00,  2.69354584e+00,  7.25518922e+00],\n",
       "       [ 1.00000000e+00, -2.70944920e+00,  7.34111498e+00],\n",
       "       [ 1.00000000e+00, -1.69130048e+00,  2.86049731e+00],\n",
       "       [ 1.00000000e+00,  2.15896212e+00,  4.66111743e+00],\n",
       "       [ 1.00000000e+00,  2.37786173e+00,  5.65422641e+00],\n",
       "       [ 1.00000000e+00, -1.43628309e+00,  2.06290913e+00],\n",
       "       [ 1.00000000e+00,  1.32234396e+00,  1.74859356e+00],\n",
       "       [ 1.00000000e+00, -2.22809214e-02,  4.96439457e-04],\n",
       "       [ 1.00000000e+00, -1.37277434e+00,  1.88450939e+00],\n",
       "       [ 1.00000000e+00, -1.02139264e+00,  1.04324292e+00],\n",
       "       [ 1.00000000e+00,  2.04520535e-01,  4.18286491e-02],\n",
       "       [ 1.00000000e+00,  2.30675834e+00,  5.32113406e+00],\n",
       "       [ 1.00000000e+00, -1.95827122e+00,  3.83482615e+00],\n",
       "       [ 1.00000000e+00,  7.27758363e-01,  5.29632235e-01]])"
      ]
     },
     "execution_count": 39,
     "metadata": {},
     "output_type": "execute_result"
    }
   ],
   "source": [
    "X_train"
   ]
  },
  {
   "cell_type": "code",
   "execution_count": 26,
   "id": "34385433",
   "metadata": {},
   "outputs": [
    {
     "data": {
      "text/plain": [
       "LinearRegression()"
      ]
     },
     "execution_count": 26,
     "metadata": {},
     "output_type": "execute_result"
    }
   ],
   "source": [
    "from sklearn.linear_model import LinearRegression\n",
    "model = LinearRegression()\n",
    "model.fit(X_train, Y_train)"
   ]
  },
  {
   "cell_type": "code",
   "execution_count": 27,
   "id": "558ee37d",
   "metadata": {},
   "outputs": [
    {
     "data": {
      "text/plain": [
       "array([2.02681547])"
      ]
     },
     "execution_count": 27,
     "metadata": {},
     "output_type": "execute_result"
    }
   ],
   "source": [
    "model.intercept_"
   ]
  },
  {
   "cell_type": "code",
   "execution_count": 28,
   "id": "7ec3115b",
   "metadata": {},
   "outputs": [
    {
     "data": {
      "text/plain": [
       "array([[0.        , 0.90717811, 0.77627766]])"
      ]
     },
     "execution_count": 28,
     "metadata": {},
     "output_type": "execute_result"
    }
   ],
   "source": [
    "model.coef_"
   ]
  },
  {
   "cell_type": "code",
   "execution_count": 54,
   "id": "f12ddaf8",
   "metadata": {},
   "outputs": [
    {
     "data": {
      "text/plain": [
       "array([[ 2.26115367],\n",
       "       [ 8.88819234],\n",
       "       [ 2.8139702 ],\n",
       "       [ 5.84609435],\n",
       "       [ 4.46886978],\n",
       "       [ 3.61173896],\n",
       "       [ 1.80793753],\n",
       "       [ 2.13477607],\n",
       "       [ 3.32117081],\n",
       "       [ 3.70266703],\n",
       "       [ 3.83269444],\n",
       "       [ 6.10003562],\n",
       "       [ 1.88193148],\n",
       "       [ 4.44596082],\n",
       "       [ 2.78342526],\n",
       "       [ 1.87150131],\n",
       "       [ 1.90123908],\n",
       "       [ 2.26081787],\n",
       "       [ 3.97771108],\n",
       "       [ 6.25492615],\n",
       "       [ 1.92631283],\n",
       "       [ 1.82580977],\n",
       "       [ 2.62964763],\n",
       "       [ 9.95899839],\n",
       "       [ 4.41465455],\n",
       "       [ 4.343922  ],\n",
       "       [ 3.12714048],\n",
       "       [ 1.77388289],\n",
       "       [ 5.58649062],\n",
       "       [ 2.82068994],\n",
       "       [ 3.45250406],\n",
       "       [ 1.76947934],\n",
       "       [ 1.84240616],\n",
       "       [ 3.09846036],\n",
       "       [ 1.98855826],\n",
       "       [ 9.37918557],\n",
       "       [ 5.64012087],\n",
       "       [ 3.45150611],\n",
       "       [ 3.0553975 ],\n",
       "       [10.93769225],\n",
       "       [ 9.27526072],\n",
       "       [ 2.24494077],\n",
       "       [ 2.48305681],\n",
       "       [ 5.47706427],\n",
       "       [ 1.77070451],\n",
       "       [ 2.62352452],\n",
       "       [ 2.84046008],\n",
       "       [ 4.00742361],\n",
       "       [ 3.82398373],\n",
       "       [ 2.41134984],\n",
       "       [ 2.24251734],\n",
       "       [ 2.5854783 ],\n",
       "       [ 3.75000944],\n",
       "       [ 5.82637919],\n",
       "       [ 2.76392912],\n",
       "       [ 4.51855906],\n",
       "       [ 5.79046588],\n",
       "       [ 3.36822534],\n",
       "       [ 2.46240928],\n",
       "       [ 3.69984976],\n",
       "       [ 2.95595556],\n",
       "       [ 2.18105532],\n",
       "       [ 5.34352007],\n",
       "       [11.32479469],\n",
       "       [ 1.82226294],\n",
       "       [ 2.12061271],\n",
       "       [ 7.77006237],\n",
       "       [ 2.38670164],\n",
       "       [ 1.95413381],\n",
       "       [ 6.09775326],\n",
       "       [ 8.77999565],\n",
       "       [10.837823  ],\n",
       "       [ 2.70698585],\n",
       "       [ 2.78319461],\n",
       "       [ 1.99247473],\n",
       "       [ 4.01624148],\n",
       "       [ 1.95041368],\n",
       "       [ 6.8679404 ],\n",
       "       [ 2.90228994],\n",
       "       [ 8.79967859],\n",
       "       [ 4.09931748],\n",
       "       [ 2.14700013],\n",
       "       [ 5.94685674],\n",
       "       [ 8.51170487],\n",
       "       [ 3.30374727],\n",
       "       [ 5.54139993],\n",
       "       [ 5.2594736 ],\n",
       "       [ 2.07160396],\n",
       "       [ 4.20457204],\n",
       "       [ 4.69971975],\n",
       "       [ 2.22267834],\n",
       "       [ 3.40951089],\n",
       "       [ 1.81200826],\n",
       "       [ 2.05295924],\n",
       "       [ 1.76776858],\n",
       "       [ 1.93681794],\n",
       "       [ 3.9588302 ],\n",
       "       [ 4.36210429],\n",
       "       [ 8.80484222],\n",
       "       [ 2.21609546],\n",
       "       [ 4.96601422],\n",
       "       [ 2.41872432],\n",
       "       [ 2.18638054],\n",
       "       [ 3.79646925],\n",
       "       [ 2.22984957],\n",
       "       [11.61369697],\n",
       "       [ 4.55459211],\n",
       "       [ 3.81599175],\n",
       "       [ 9.28672327],\n",
       "       [ 2.14915603],\n",
       "       [ 5.45318053],\n",
       "       [ 4.72239745],\n",
       "       [ 1.8406063 ],\n",
       "       [ 1.79563196],\n",
       "       [ 2.17712247],\n",
       "       [ 1.92562496],\n",
       "       [ 1.81588107],\n",
       "       [ 3.04701415],\n",
       "       [ 2.38567509],\n",
       "       [ 2.63208361],\n",
       "       [ 5.71550503],\n",
       "       [ 5.1618197 ],\n",
       "       [ 8.46380529],\n",
       "       [ 5.84569687],\n",
       "       [ 4.06046826],\n",
       "       [ 3.95087021],\n",
       "       [10.10238258],\n",
       "       [ 5.267606  ],\n",
       "       [ 2.71304485],\n",
       "       [ 7.60369996],\n",
       "       [ 8.5732092 ],\n",
       "       [ 2.32524116],\n",
       "       [ 4.58381108],\n",
       "       [ 2.00698808],\n",
       "       [ 2.24436718],\n",
       "       [ 1.9100766 ],\n",
       "       [ 2.24482267],\n",
       "       [ 8.25013362],\n",
       "       [ 3.22720456],\n",
       "       [ 3.0981636 ]])"
      ]
     },
     "execution_count": 54,
     "metadata": {},
     "output_type": "execute_result"
    }
   ],
   "source": [
    "train_prediction = model.predict(X_train)\n",
    "train_prediction"
   ]
  },
  {
   "cell_type": "code",
   "execution_count": 30,
   "id": "27dc6abb",
   "metadata": {},
   "outputs": [],
   "source": [
    "test_prediction = model.predict(X_test)"
   ]
  },
  {
   "cell_type": "code",
   "execution_count": 31,
   "id": "adb9856d",
   "metadata": {},
   "outputs": [],
   "source": [
    "from sklearn.metrics import mean_absolute_error,mean_squared_error"
   ]
  },
  {
   "cell_type": "code",
   "execution_count": 32,
   "id": "a683eadf",
   "metadata": {},
   "outputs": [
    {
     "data": {
      "text/plain": [
       "0.7339349244553457"
      ]
     },
     "execution_count": 32,
     "metadata": {},
     "output_type": "execute_result"
    }
   ],
   "source": [
    "MAE = mean_absolute_error(Y_test, test_prediction)\n",
    "MAE"
   ]
  },
  {
   "cell_type": "code",
   "execution_count": 33,
   "id": "63394496",
   "metadata": {},
   "outputs": [
    {
     "data": {
      "text/plain": [
       "0.9265002827058688"
      ]
     },
     "execution_count": 33,
     "metadata": {},
     "output_type": "execute_result"
    }
   ],
   "source": [
    "MSE = mean_squared_error(Y_test, test_prediction)\n",
    "MSE"
   ]
  },
  {
   "cell_type": "code",
   "execution_count": 34,
   "id": "28d49975",
   "metadata": {},
   "outputs": [
    {
     "data": {
      "text/plain": [
       "0.9625488469194012"
      ]
     },
     "execution_count": 34,
     "metadata": {},
     "output_type": "execute_result"
    }
   ],
   "source": [
    "RMSE = np.sqrt(MSE)\n",
    "RMSE"
   ]
  },
  {
   "cell_type": "code",
   "execution_count": 35,
   "id": "a2deec6d",
   "metadata": {},
   "outputs": [
    {
     "data": {
      "text/plain": [
       "0.858648219211448"
      ]
     },
     "execution_count": 35,
     "metadata": {},
     "output_type": "execute_result"
    }
   ],
   "source": [
    "model.score(X_train,Y_train)"
   ]
  },
  {
   "cell_type": "code",
   "execution_count": 36,
   "id": "e7881f35",
   "metadata": {},
   "outputs": [
    {
     "data": {
      "text/plain": [
       "0.8974932365195523"
      ]
     },
     "execution_count": 36,
     "metadata": {},
     "output_type": "execute_result"
    }
   ],
   "source": [
    "model.score(X_test,Y_test)"
   ]
  },
  {
   "cell_type": "code",
   "execution_count": 61,
   "id": "054071e3",
   "metadata": {},
   "outputs": [],
   "source": [
    "X_new=np.linspace(-3, 3, 100).reshape(100, 1)\n",
    "X_new_poly = polynomial_converter.transform(X_new)\n",
    "Y_new = model.predict(X_new_poly)\n",
    "\n"
   ]
  },
  {
   "cell_type": "code",
   "execution_count": 63,
   "id": "37d49320",
   "metadata": {},
   "outputs": [
    {
     "data": {
      "image/png": "[encoded data removed]",
      "text/plain": [
       "<Figure size 432x288 with 1 Axes>"
      ]
     },
     "metadata": {
      "needs_background": "light"
     },
     "output_type": "display_data"
    }
   ],
   "source": [
    "plt.plot(X_new ,Y_new, \"r-\", linewidth=2, label=\"Predictions\")\n",
    "plt.plot(X, Y, \"b.\",label='Whole data')\n",
    "#plt.plot(X_test, Y_test, \"g.\",label='Testing points')\n",
    "plt.xlabel(\"X\")\n",
    "plt.ylabel('Y')\n",
    "plt.legend()\n",
    "plt.show()"
   ]
  },
  {
   "cell_type": "code",
   "execution_count": null,
   "id": "9b96d6a5",
   "metadata": {},
   "outputs": [],
   "source": []
  }
 ],
 "metadata": {
  "kernelspec": {
   "display_name": "Python 3",
   "language": "python",
   "name": "python3"
  },
  "language_info": {
   "codemirror_mode": {
    "name": "ipython",
    "version": 3
   },
   "file_extension": ".py",
   "mimetype": "text/x-python",
   "name": "python",
   "nbconvert_exporter": "python",
   "pygments_lexer": "ipython3",
   "version": "3.8.8"
  }
 },
 "nbformat": 4,
 "nbformat_minor": 5
}
